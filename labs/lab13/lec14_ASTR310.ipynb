{
  "cells": [
    {
      "cell_type": "markdown",
      "metadata": {
        "id": "Z68C6sZQ9YPR"
      },
      "source": [
        "## Exercise 1: units and constants  \n",
        "Using Astropy, compute the following quantities. Hints on how to get started are in the reading for today!  \n"
      ]
    },
    {
      "cell_type": "markdown",
      "metadata": {
        "id": "L02jmY729diT"
      },
      "source": [
        "1. The escape velocity (in km/s) of a $2.3 M_{\\odot}$ giant star with a radius of $150 R_{\\odot}$.\n",
        "\n",
        "   $$ v_{esc} = \\sqrt{\\frac{2GM}{R}} $$"
      ]
    },
    {
      "cell_type": "code",
      "execution_count": 12,
      "metadata": {
        "id": "p1e6bv-69X4S"
      },
      "outputs": [
        {
          "name": "stdout",
          "output_type": "stream",
          "text": [
            "76.48532239709606 km / s\n"
          ]
        }
      ],
      "source": [
        "#Code Here\n",
        "\n",
        "from astropy.constants import M_sun , R_sun, G , b_wien\n",
        "import numpy as np\n",
        "import astropy.units as u\n",
        "\n",
        "v_esc =  np.sqrt(2 * M_sun * 2.3 * G / (R_sun * 150)).to(u.km/u.s)\n",
        "\n",
        "print(v_esc)\n",
        "\n"
      ]
    },
    {
      "cell_type": "markdown",
      "metadata": {
        "id": "IjgrSCxEAhm0"
      },
      "source": [
        "2. The wavelength (in angstroms) of the peak of the spectrum of a $11,350 K$ blackbody.\n",
        "\n",
        "   $$ \\lambda_{peak} = \\frac{0.29 \\text{ cm K}}{T} $$"
      ]
    },
    {
      "cell_type": "code",
      "execution_count": 17,
      "metadata": {
        "id": "6sN8PQkwAnCP"
      },
      "outputs": [
        {
          "data": {
            "text/latex": [
              "$2553.103 \\; \\mathrm{\\mathring{A}}$"
            ],
            "text/plain": [
              "<Quantity 2553.10304422 Angstrom>"
            ]
          },
          "execution_count": 17,
          "metadata": {},
          "output_type": "execute_result"
        }
      ],
      "source": [
        "#Code Here\n",
        "lambda_peak = (b_wien / (11350 * u.K)).to(u.Angstrom)\n",
        "lambda_peak"
      ]
    },
    {
      "cell_type": "markdown",
      "metadata": {
        "id": "SBc3Hr--AoAC"
      },
      "source": [
        "3. The orbital period (in minutes) of a $1 M_{\\odot}$ white dwarf orbiting a $0.6 M_{\\odot}$ white dwarf at a separation of $10^5$ km.\n",
        "\n",
        "   $$ P = 2\\pi \\sqrt{\\frac{a^3}{G(M_1 + M_2)}} $$"
      ]
    },
    {
      "cell_type": "code",
      "execution_count": 24,
      "metadata": {
        "id": "wRqWF1t2AqDq"
      },
      "outputs": [
        {
          "data": {
            "text/latex": [
              "$7.1864235 \\; \\mathrm{min}$"
            ],
            "text/plain": [
              "<Quantity 7.18642355 min>"
            ]
          },
          "execution_count": 24,
          "metadata": {},
          "output_type": "execute_result"
        }
      ],
      "source": [
        "#Code Here\n",
        "M1 = 1 * M_sun\n",
        "M2 = 0.6 * M_sun\n",
        "a = 10 **5 * u.km\n",
        "\n",
        "P = (2 * np.pi * np.sqrt(a**3 / (G * (M1 + M2)))).to(u.min)\n",
        "P"
      ]
    },
    {
      "cell_type": "markdown",
      "metadata": {
        "id": "v-hfbl-VArLm"
      },
      "source": [
        "4. The Compton wavelength (in fm) of a nickel-56 nucleus, given its rest mass of $52.110 GeV/c^2$.\n",
        "\n",
        "   $$ \\lambda = \\frac{h}{mc} $$"
      ]
    },
    {
      "cell_type": "code",
      "execution_count": 41,
      "metadata": {
        "id": "DlQFFbCJAvkm"
      },
      "outputs": [
        {
          "data": {
            "text/latex": [
              "$0.023792784 \\; \\mathrm{fm}$"
            ],
            "text/plain": [
              "<Quantity 0.02379278 fm>"
            ]
          },
          "execution_count": 41,
          "metadata": {},
          "output_type": "execute_result"
        }
      ],
      "source": [
        "#Code Here\n",
        "import astropy.constants as const\n",
        "# print(const.h.value) # this is is much better way than importing all one by one\n",
        "mass_rest = 52.110 * u.GeV / (const.c**2)\n",
        "\n",
        "mass_kg = mass_rest.to(u.kg, equivalencies=u.mass_energy())\n",
        "wavelength = const.h / (mass_rest * const.c)\n",
        "\n",
        "l_compton = wavelength.to(u.fm)\n",
        "\n",
        "l_compton\n",
        "\n"
      ]
    },
    {
      "cell_type": "markdown",
      "metadata": {
        "id": "pkgnP6EdAwnw"
      },
      "source": [
        "5. The distance (in Mpc) to a radio galaxy with a flux density of $8400 Jy$ and a spectral luminosity of $6 \\times 10^{35} \\text{ erg s}^{-1} \\text{ Hz}^{-1}$.\n",
        "\n",
        "   $$ F_{\\nu} = \\frac{L_{\\nu}}{4\\pi d^2} $$"
      ]
    },
    {
      "cell_type": "code",
      "execution_count": 46,
      "metadata": {
        "id": "KzPwV_qtA0Q-"
      },
      "outputs": [
        {
          "data": {
            "text/latex": [
              "$244.33209 \\; \\mathrm{Mpc}$"
            ],
            "text/plain": [
              "<Quantity 244.33208718 Mpc>"
            ]
          },
          "execution_count": 46,
          "metadata": {},
          "output_type": "execute_result"
        }
      ],
      "source": [
        "#Code Here\n",
        "\n",
        "flux = 8400 * u.Jy\n",
        "L_v = 6e35 * u.erg / (u.s * u.Hz)\n",
        "flux_SI = flux.to(u.W / (u.m**2 * u.Hz))\n",
        "\n",
        "L_v_SI = L_v.to(u.W / u.Hz)\n",
        "\n",
        "dist = np.sqrt(L_v_SI /(4 * np.pi * flux_SI)).to(u.Mpc)\n",
        "\n",
        "dist"
      ]
    },
    {
      "cell_type": "markdown",
      "metadata": {
        "id": "ZHlYZnUA_EJ6"
      },
      "source": [
        "## Exercise 2: sky coordinate conversions and angles  \n",
        "Using `SkyCoord`, `EarthLocation`, and `Time` objects, perform the following calculations:    \n",
        "- Find the angular distance between the Galactic center ($l = 0^\\circ$, $b = 0^\\circ$ in galactic coordinates) and the globular cluster M13.  \n"
      ]
    },
    {
      "cell_type": "code",
      "execution_count": 51,
      "metadata": {
        "id": "rnNbqz8Q9Wzx"
      },
      "outputs": [
        {
          "name": "stdout",
          "output_type": "stream",
          "text": [
            "Amgular distance bw Galatic Center and M13 : 67d06m01.56335465s\n"
          ]
        }
      ],
      "source": [
        "#Code Here\n",
        "from astropy.coordinates import SkyCoord\n",
        "galactic_center = SkyCoord(l=0*u.degree, b=0*u.degree, frame='galactic')\n",
        "\n",
        "m13 = SkyCoord(ra=250.423475*u.degree, dec=36.461319*u.degree, frame='icrs')\n",
        "\n",
        "m13_galactic = m13.transform_to('galactic')\n",
        "\n",
        "angular_distance = galactic_center.separation(m13_galactic)\n",
        "\n",
        "print(\"Amgular distance bw Galatic Center and M13 :\", angular_distance)\n"
      ]
    },
    {
      "cell_type": "markdown",
      "metadata": {
        "id": "-5ALYPJf_zN-"
      },
      "source": [
        "- Find the angular distance between Venus and the Sun on February 29, 2024 at 23:00 UTC (i.e. “2024-02-29T23:00:00”). Use the `astropy.coordinates.get_body()` method to get sky coordinates for Solar System bodies at a given time.  "
      ]
    },
    {
      "cell_type": "code",
      "execution_count": 54,
      "metadata": {
        "id": "niBYmpHm_1j2"
      },
      "outputs": [
        {
          "name": "stdout",
          "output_type": "stream",
          "text": [
            "Angular distance between Venus and the Sun : 24d24m56.51528799s\n"
          ]
        }
      ],
      "source": [
        "#Code Here\n",
        "from astropy.coordinates import get_body, solar_system_ephemeris\n",
        "from astropy.time import Time\n",
        "\n",
        "time = Time('2024-02-29T23:00:00')\n",
        "venus = get_body('venus', time)\n",
        "sun = get_body('sun', time)\n",
        "ang_dist_v_s = venus.separation(sun)\n",
        "print(\"Angular distance between Venus and the Sun :\", ang_dist_v_s)\n"
      ]
    },
    {
      "cell_type": "markdown",
      "metadata": {
        "id": "9YuVVwXo_201"
      },
      "source": [
        "- Create an altitude-azimuth coordinate frame object (`AltAz`) corresponding to the location of the ALMA Observatory at the same time as above. Create a `SkyCoord` object corresponding to the sky position of the Large Magellanic Cloud (RA 05h23m34.5s, Dec $-69^\\circ45'22''$ in the `icrs` frame). Finally, using the `SkyCoord` object’s `transform_to` method, find its representation in the alt-az frame you created. This will give the altitude and azimuth of the LMC at ALMA this evening at 8 pm local time.  "
      ]
    },
    {
      "cell_type": "code",
      "execution_count": 2,
      "metadata": {
        "id": "S-nifBFi_58G"
      },
      "outputs": [
        {
          "ename": "NameError",
          "evalue": "name 'u' is not defined",
          "output_type": "error",
          "traceback": [
            "\u001b[1;31m---------------------------------------------------------------------------\u001b[0m",
            "\u001b[1;31mNameError\u001b[0m                                 Traceback (most recent call last)",
            "Cell \u001b[1;32mIn[2], line 3\u001b[0m\n\u001b[0;32m      1\u001b[0m \u001b[38;5;66;03m#Code Here\u001b[39;00m\n\u001b[0;32m      2\u001b[0m \u001b[38;5;28;01mfrom\u001b[39;00m \u001b[38;5;21;01mastropy\u001b[39;00m\u001b[38;5;21;01m.\u001b[39;00m\u001b[38;5;21;01mcoordinates\u001b[39;00m \u001b[38;5;28;01mimport\u001b[39;00m EarthLocation, AltAz\n\u001b[1;32m----> 3\u001b[0m alma_loc \u001b[38;5;241m=\u001b[39m EarthLocation(lat\u001b[38;5;241m=\u001b[39m\u001b[38;5;241m-\u001b[39m\u001b[38;5;241m23.0262015\u001b[39m\u001b[38;5;241m*\u001b[39m\u001b[43mu\u001b[49m\u001b[38;5;241m.\u001b[39mdeg, lon\u001b[38;5;241m=\u001b[39m\u001b[38;5;241m-\u001b[39m\u001b[38;5;241m67.7551257\u001b[39m\u001b[38;5;241m*\u001b[39mu\u001b[38;5;241m.\u001b[39mdeg, height\u001b[38;5;241m=\u001b[39m\u001b[38;5;241m5060\u001b[39m\u001b[38;5;241m*\u001b[39mu\u001b[38;5;241m.\u001b[39mm)\n\u001b[0;32m      5\u001b[0m time \u001b[38;5;241m=\u001b[39m Time(\u001b[38;5;124m'\u001b[39m\u001b[38;5;124m2024-02-29T20:00:00\u001b[39m\u001b[38;5;124m'\u001b[39m) \u001b[38;5;241m-\u001b[39m alma_loc\u001b[38;5;241m.\u001b[39mlon\u001b[38;5;241m.\u001b[39mhourangle \u001b[38;5;241m*\u001b[39m u\u001b[38;5;241m.\u001b[39mhour\n\u001b[0;32m      6\u001b[0m altaz_f \u001b[38;5;241m=\u001b[39m AltAz(obstime\u001b[38;5;241m=\u001b[39mtime, location\u001b[38;5;241m=\u001b[39malma_loc)\n",
            "\u001b[1;31mNameError\u001b[0m: name 'u' is not defined"
          ]
        }
      ],
      "source": [
        "#Code Here\n",
        "from astropy.coordinates import EarthLocation, AltAz\n",
        "alma_loc = EarthLocation(lat=-23.0262015*u.deg, lon=-67.7551257*u.deg, height=5060*u.m)\n",
        "\n",
        "time = Time('2024-02-29T20:00:00') - alma_loc.lon.hourangle * u.hour\n",
        "altaz_f = AltAz(obstime=time, location=alma_loc)\n",
        "lmc_i = SkyCoord(ra='05h23m34.5s', dec='-69d45m22s', frame='icrs')\n",
        "lmc_a = lmc_i.transform_to(altaz_f)\n",
        "print(\"LMC at ALMA - Altitude :\" , lmc_a.alt, \"Azimuth:\" ,lmc_a.az)"
      ]
    },
    {
      "cell_type": "code",
      "execution_count": 3,
      "metadata": {},
      "outputs": [
        {
          "name": "stdout",
          "output_type": "stream",
          "text": [
            "1\n",
            "3\n",
            "7\n",
            "5\n",
            "1\n",
            "3\n",
            "7\n",
            "5\n",
            "1\n",
            "3\n",
            "7\n",
            "5\n",
            "1\n",
            "3\n",
            "7\n",
            "5\n",
            "1\n",
            "3\n",
            "7\n",
            "5\n",
            "1\n",
            "3\n",
            "7\n",
            "5\n",
            "1\n",
            "3\n",
            "7\n",
            "5\n",
            "1\n",
            "3\n",
            "7\n",
            "5\n",
            "1\n",
            "3\n",
            "7\n",
            "5\n",
            "1\n",
            "3\n",
            "7\n",
            "5\n",
            "1\n",
            "3\n",
            "7\n",
            "5\n",
            "1\n",
            "3\n",
            "7\n",
            "5\n",
            "1\n",
            "3\n",
            "7\n",
            "5\n",
            "1\n",
            "3\n",
            "7\n",
            "5\n",
            "1\n",
            "3\n",
            "7\n",
            "5\n",
            "1\n",
            "3\n",
            "7\n",
            "5\n",
            "1\n",
            "3\n",
            "7\n",
            "5\n",
            "1\n",
            "3\n",
            "7\n",
            "5\n",
            "1\n",
            "3\n",
            "7\n",
            "5\n",
            "1\n",
            "3\n",
            "7\n",
            "5\n",
            "1\n",
            "3\n",
            "7\n",
            "5\n",
            "1\n",
            "3\n",
            "7\n",
            "5\n",
            "1\n",
            "3\n",
            "7\n",
            "5\n",
            "1\n",
            "3\n",
            "7\n",
            "5\n",
            "1\n",
            "3\n",
            "7\n",
            "5\n"
          ]
        }
      ],
      "source": [
        "def lcg_gen_next(modulus, a, c, xk):\n",
        "  xk_p1 = (a * xk + c) % modulus\n",
        "  return xk_p1\n",
        "\n",
        "x = 1\n",
        "M = 10\n",
        "a = 2\n",
        "c = 1\n",
        "for i in range(100):\n",
        "  print(x)\n",
        "  x = lcg_gen_next(M, a, c, x)"
      ]
    }
  ],
  "metadata": {
    "colab": {
      "provenance": []
    },
    "kernelspec": {
      "display_name": "Python 3",
      "name": "python3"
    },
    "language_info": {
      "codemirror_mode": {
        "name": "ipython",
        "version": 3
      },
      "file_extension": ".py",
      "mimetype": "text/x-python",
      "name": "python",
      "nbconvert_exporter": "python",
      "pygments_lexer": "ipython3",
      "version": "3.11.8"
    }
  },
  "nbformat": 4,
  "nbformat_minor": 0
}
