{
 "cells": [
  {
   "cell_type": "code",
   "execution_count": 1,
   "metadata": {},
   "outputs": [
    {
     "name": "stdout",
     "output_type": "stream",
     "text": [
      "1.1102230246251565e-16 e is same as one now\n"
     ]
    }
   ],
   "source": [
    "e = 1\n",
    "\n",
    "while (1 + e != 1) :\n",
    "    e = e / 2\n",
    "\n",
    "print(e,\"e is same as one now\")"
   ]
  },
  {
   "cell_type": "markdown",
   "metadata": {},
   "source": [
    "1 + 1 , 2 + 1 , 3 + 2, 5 + 3"
   ]
  },
  {
   "cell_type": "code",
   "execution_count": 16,
   "metadata": {},
   "outputs": [
    {
     "name": "stdout",
     "output_type": "stream",
     "text": [
      "1\n",
      "2\n",
      "3\n",
      "5\n",
      "8\n",
      "13\n",
      "21\n",
      "34\n",
      "55\n",
      "89\n",
      "144\n",
      "233\n",
      "377\n",
      "610\n",
      "987\n"
     ]
    }
   ],
   "source": [
    "a = 1\n",
    "b = 1\n",
    "i = 0\n",
    "max_range_s = input(\"Value of max fibonnaci sequence\")\n",
    "max_range = int (max_range_s)\n",
    "while i < max_range :\n",
    "    tmp_val = b\n",
    "    b = a + b\n",
    "    a = tmp_val\n",
    "    i = i + 1\n",
    "    print(a)"
   ]
  },
  {
   "cell_type": "code",
   "execution_count": 59,
   "metadata": {},
   "outputs": [
    {
     "name": "stdout",
     "output_type": "stream",
     "text": [
      "2\n",
      "3\n",
      "5\n",
      "7\n",
      "11\n",
      "13\n",
      "17\n",
      "19\n",
      "23\n",
      "29\n",
      "31\n",
      "37\n",
      "41\n",
      "43\n",
      "47\n",
      "53\n",
      "59\n",
      "61\n",
      "67\n",
      "71\n",
      "73\n",
      "79\n",
      "83\n",
      "89\n",
      "97\n"
     ]
    }
   ],
   "source": [
    "n_s = input(\"Value of n\")\n",
    "n = int(n_s)\n",
    "\n",
    "L = list(range(n + 1))\n",
    "L[1] = 0\n",
    "p = 2\n",
    "while (p **2 <= n) :\n",
    "    for i in range(p**2, n + 1, p):\n",
    "        # print(L[i])\n",
    "        L[i] = 0\n",
    "    q = p + 1\n",
    "    for i in range(len(L)):\n",
    "        if (L[i] != 0 and L[i] > p):\n",
    "            q = L[i]\n",
    "            # print(q)\n",
    "            break\n",
    "    p = q\n",
    "for i in range(len(L)):\n",
    "    if (L[i] != 0) :\n",
    "        print(i)"
   ]
  },
  {
   "cell_type": "code",
   "execution_count": 65,
   "metadata": {},
   "outputs": [
    {
     "data": {
      "text/plain": [
       "(8.661553368306921e-05, 25969.069308857812)"
      ]
     },
     "execution_count": 65,
     "metadata": {},
     "output_type": "execute_result"
    }
   ],
   "source": [
    "# Re-performing the calculation for the dilated half-life and the distance covered for part (b)\n",
    "import math\n",
    "half_life_muon = 3 * 10 **-6\n",
    "speed_of_light = 3 * 10 ** 8\n",
    "# Recalculating the dilated half-life using the time dilation formula\n",
    "dilated_half_life_b_recalc = half_life_muon / math.sqrt(1 - (0.9994 * speed_of_light)**2 / speed_of_light**2)\n",
    "\n",
    "# Recalculating the distance traveled by muons in their dilated half-life\n",
    "distance_dilated_half_life_b_recalc = 0.9994 * speed_of_light * dilated_half_life_b_recalc\n",
    "\n",
    "\n",
    "rev = distance_dilated_half_life_b_recalc/ ( 3.14 * 15)\n",
    "dilated_half_life_b_recalc, distance_dilated_half_life_b_recalc\n",
    "# rev"
   ]
  },
  {
   "cell_type": "code",
   "execution_count": 73,
   "metadata": {},
   "outputs": [
    {
     "data": {
      "text/plain": [
       "(0.8042448774813745, 0.8042448774813745)"
      ]
     },
     "execution_count": 73,
     "metadata": {},
     "output_type": "execute_result"
    }
   ],
   "source": [
    "# Constants for part (c)\n",
    "muon_speed_c = 0.9999 * speed_of_light  # Speed of muon\n",
    "height_above_earth = 20e3  # Height above Earth's surface in meters\n",
    "\n",
    "# Time dilation for the new speed\n",
    "dilated_half_life_c = half_life_muon / math.sqrt(1 - muon_speed_c**2 / speed_of_light**2)\n",
    "\n",
    "# Time taken for the muon to travel 20 km in the Earth frame\n",
    "time_to_earth = height_above_earth / muon_speed_c\n",
    "\n",
    "# Probability of survival in the Earth frame\n",
    "# Using the formula P(τ) = 2^(-τ/T1/2), where τ is the time in the Earth frame\n",
    "probability_survival_earth_frame = 2**(-time_to_earth / dilated_half_life_c)\n",
    "\n",
    "# Length contraction in the muon's frame\n",
    "contracted_length = height_above_earth * math.sqrt(1 - muon_speed_c**2 / speed_of_light**2)\n",
    "\n",
    "# Time taken to travel the contracted distance in the muon's frame\n",
    "time_in_muon_frame = contracted_length / muon_speed_c\n",
    "\n",
    "# Probability of survival in the muon's frame\n",
    "probability_survival_muon_frame = 2**(-time_in_muon_frame / half_life_muon)\n",
    "\n",
    "probability_survival_earth_frame, probability_survival_muon_frame\n",
    "# dilated_half_life_c\n",
    "# time_to_earth"
   ]
  },
  {
   "cell_type": "code",
   "execution_count": 76,
   "metadata": {},
   "outputs": [
    {
     "data": {
      "text/plain": [
       "2.040682867333229e-07"
      ]
     },
     "execution_count": 76,
     "metadata": {},
     "output_type": "execute_result"
    }
   ],
   "source": [
    "# Time taken for the muon to travel 20 km without relativistic effects\n",
    "time_to_earth_non_relativistic = height_above_earth / muon_speed_c\n",
    "\n",
    "# Probability of survival without relativistic effects\n",
    "probability_survival_non_relativistic = 2**(-time_to_earth_non_relativistic / half_life_muon)\n",
    "probability_survival_non_relativistic\n",
    "# time_to_earth_non_relativistic"
   ]
  },
  {
   "cell_type": "code",
   "execution_count": 82,
   "metadata": {},
   "outputs": [
    {
     "name": "stdout",
     "output_type": "stream",
     "text": [
      "False\n"
     ]
    },
    {
     "data": {
      "text/plain": [
       "(['h', 'g', 'hi'], ['h', 'g', 'hi', 'hi'])"
      ]
     },
     "execution_count": 82,
     "metadata": {},
     "output_type": "execute_result"
    }
   ],
   "source": [
    "a = ['h', 'g']\n",
    "b = 'hi'\n",
    "\n",
    "a.append(b) \n",
    "c = a + [b]\n",
    "# a += b\n",
    "print(a==c)\n",
    "a, c"
   ]
  },
  {
   "cell_type": "code",
   "execution_count": 87,
   "metadata": {},
   "outputs": [
    {
     "name": "stdout",
     "output_type": "stream",
     "text": [
      "cs ['electrical', 'physics']\n"
     ]
    }
   ],
   "source": [
    "John = 'cs'\n",
    "Tim = John\n",
    "Tim += ', math'\n",
    "Anna = ['electrical']\n",
    "Julie = Anna\n",
    "Julie += ['physics']\n",
    "print(John, Anna)"
   ]
  },
  {
   "cell_type": "code",
   "execution_count": 88,
   "metadata": {},
   "outputs": [
    {
     "data": {
      "text/plain": [
       "[9, 7, 5, 3, 1]"
      ]
     },
     "execution_count": 88,
     "metadata": {},
     "output_type": "execute_result"
    }
   ],
   "source": [
    "a = [0,1,2,3,4,5,6,7,8,9]\n",
    "a[1::2][::-1]"
   ]
  },
  {
   "cell_type": "code",
   "execution_count": 99,
   "metadata": {},
   "outputs": [
    {
     "name": "stdout",
     "output_type": "stream",
     "text": [
      "p ['cs', 'ec']\n",
      "['cs', 'ec']\n"
     ]
    }
   ],
   "source": [
    "# def a_m(p) :\n",
    "#     p.append('m')\n",
    "def s_m(p):\n",
    "    # print(\"p\", p)\n",
    "    # p = ['p']\n",
    "    # print(\"p\", p)\n",
    "    p.append('ec')\n",
    "    print(\"p\", p)\n",
    "John = ['cs']\n",
    "# T = John\n",
    "# a_m(T)\n",
    "s_m(John)\n",
    "print(John)"
   ]
  },
  {
   "cell_type": "code",
   "execution_count": 106,
   "metadata": {},
   "outputs": [
    {
     "name": "stdout",
     "output_type": "stream",
     "text": [
      "New\n"
     ]
    }
   ],
   "source": [
    "class test:\n",
    "    def __init__(self) -> None:\n",
    "        self.variable = 'Old'\n",
    "        self.variable = self.Change(self.variable)\n",
    "    def Change(self, var):\n",
    "        var = 'New'\n",
    "        return var\n",
    "obj = test()\n",
    "print(obj.variable)"
   ]
  },
  {
   "cell_type": "code",
   "execution_count": 110,
   "metadata": {},
   "outputs": [
    {
     "data": {
      "text/plain": [
       "([3, 1], [5, 2])"
      ]
     },
     "execution_count": 110,
     "metadata": {},
     "output_type": "execute_result"
    }
   ],
   "source": [
    "a = [3]\n",
    "b = [5]\n",
    "def do_s(a,b) :\n",
    "    a += [1]\n",
    "    b +=[2] \n",
    "do_s(a,b)\n",
    "a,b"
   ]
  },
  {
   "cell_type": "code",
   "execution_count": 142,
   "metadata": {},
   "outputs": [
    {
     "name": "stdout",
     "output_type": "stream",
     "text": [
      "(5, 4)\n",
      "[[ 0  1  2  3]\n",
      " [ 4  5  6  7]\n",
      " [ 8  9 10 11]\n",
      " [12 13 14 15]\n",
      " [16 17 18 19]]\n",
      "[[ 0  1  2  3]\n",
      " [ 4  5  6  7]\n",
      " [ 8  9 10 11]\n",
      " [12 13 14 15]\n",
      " [16 17 18 19]]\n",
      "(5, 4)\n",
      "[[ 0  2  4  6]\n",
      " [ 8 10 12 14]\n",
      " [16 18 20 22]\n",
      " [24 26 28 30]\n",
      " [32 34 36 38]]\n"
     ]
    }
   ],
   "source": [
    "import numpy as np\n",
    "a = np.array([[1,4,9],[2,8,18]])\n",
    "# a = np.zeros(np.arange(12).reshape(4,3))\n",
    "# a = np.zeros((4,3))\n",
    "# print(a.reshape(6,1))\n",
    "b = np.arange(20).reshape(5,4)\n",
    "a = np.arange(20).reshape(5,4)\n",
    "print(b.shape)\n",
    "print(b)\n",
    "print(a)\n",
    "c = a + b\n",
    "print(c.shape)\n",
    "print(c)"
   ]
  },
  {
   "cell_type": "code",
   "execution_count": 154,
   "metadata": {},
   "outputs": [
    {
     "data": {
      "text/plain": [
       "True"
      ]
     },
     "execution_count": 154,
     "metadata": {},
     "output_type": "execute_result"
    }
   ],
   "source": [
    "x = 37 % 4 * (3 + 2) * 4 + 2\n",
    "x = 1 - 0.18\n",
    "x = 0.60/x\n",
    "y = x\n",
    "x is y"
   ]
  },
  {
   "cell_type": "code",
   "execution_count": 159,
   "metadata": {},
   "outputs": [
    {
     "data": {
      "text/plain": [
       "numpy.float64"
      ]
     },
     "execution_count": 159,
     "metadata": {},
     "output_type": "execute_result"
    }
   ],
   "source": [
    "A = [1,2,3,3.7]\n",
    "B = np.array([1.2,2,6.1,8])\n",
    "\n",
    "# type(A[3])\n",
    "type(B[1])"
   ]
  },
  {
   "cell_type": "code",
   "execution_count": 160,
   "metadata": {},
   "outputs": [
    {
     "data": {
      "text/plain": [
       "27262976"
      ]
     },
     "execution_count": 160,
     "metadata": {},
     "output_type": "execute_result"
    }
   ],
   "source": [
    "y = 2**20 * 26\n",
    "y"
   ]
  }
 ],
 "metadata": {
  "kernelspec": {
   "display_name": "Python 3",
   "language": "python",
   "name": "python3"
  },
  "language_info": {
   "codemirror_mode": {
    "name": "ipython",
    "version": 3
   },
   "file_extension": ".py",
   "mimetype": "text/x-python",
   "name": "python",
   "nbconvert_exporter": "python",
   "pygments_lexer": "ipython3",
   "version": "3.11.7"
  }
 },
 "nbformat": 4,
 "nbformat_minor": 2
}
