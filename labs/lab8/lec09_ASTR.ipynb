{
  "cells": [
    {
      "cell_type": "markdown",
      "metadata": {
        "id": "ALoCi5n9DCRM"
      },
      "source": [
        "# Exercise 1: Euclid’s Algorithm (Total: 12 points)\n",
        "\n",
        "Euclid’s algorithm finds the greatest common divisor (gcd) of two integers $a$ and $b$. The procedure is as follows: beginning with $r_{-1}$ = $a$ and $r_0$ = $b$, choose successive values\n",
        "\n",
        "$r_{k+1}$ = $r_{k-1}$ mod $r_k$; $k$ = 0,...\n",
        "\n",
        "until for some $k$ = $N$ you find $r_N$ = $0$. The gcd of $a$ and $b$ is then $r_{N-1}$.\n",
        "\n",
        "Write a Python function to compute the gcd of two numbers. Ensure that you begin the iteration with integers (i.e. by casting floats to integer).\n",
        "\n",
        "Test your function on the pairs:\n",
        "\n",
        "- `gcd(35, 42)` = 7\n",
        "- `gcd(1071, 462)` = 21\n",
        "- `gcd(2232, 5952)` = 744\n",
        "- `gcd(6831, 15384)` = 3\n",
        "\n"
      ]
    },
    {
      "cell_type": "code",
      "execution_count": 3,
      "metadata": {
        "id": "I-qqBxlLBJ_m"
      },
      "outputs": [
        {
          "data": {
            "text/plain": [
              "{'gcd(35, 42)': 7,\n",
              " 'gcd(1071, 462)': 21,\n",
              " 'gcd(2232, 5952)': 744,\n",
              " 'gcd(6831, 15384)': 3}"
            ]
          },
          "execution_count": 3,
          "metadata": {},
          "output_type": "execute_result"
        }
      ],
      "source": [
        "#Code Here\n",
        "def gcd(a,b):\n",
        "    a,b = int(a), int(b)\n",
        "\n",
        "    while b != 0:\n",
        "        a,b = b,a %b\n",
        "    return a\n",
        "\n",
        "\n",
        "test_cases = [\n",
        "    (35, 42),\n",
        "    (1071, 462),\n",
        "    (2232, 5952),\n",
        "    (6831, 15384)\n",
        "]\n",
        "\n",
        "results =  {f\"gcd({a}, {b})\": gcd(a, b) for a, b in test_cases}\n",
        "results"
      ]
    },
    {
      "cell_type": "markdown",
      "metadata": {
        "id": "AqCfR9WSEAcT"
      },
      "source": [
        "# Exercise 2: Optional Arguments and Multiple Return Values (Total: 8 points)\n",
        "\n",
        "Write a Python function that will take a list of numbers and return various statistics. The function should take one required argument (the list of numbers) and one optional argument (a tuple or list of strings naming the statistics to compute). The default value for the optional argument should be `(\"mean\", )`. The allowed strings are (assuming the `N` elements of the supplied list are $L_i$):\n",
        "\n",
        "- `\"mean\"` return the mean value of the list\n",
        "- `\"sum\"` return the sum of the list values\n",
        "- `\"rms\"` return the root-mean-square, i.e. $sqrt$(1/N * sum($L_i^2$ for $i$ in range($N$)))\n",
        "- `\"max\"` return the maximum\n",
        "- `\"min\"` return the minimum\n",
        "\n",
        "The return value should be a tuple containing the requested statistics in the same order as they appear in the request tuple.\n",
        "\n",
        "Test your function on the list:\n",
        "\n",
        "`[-34.2, 17.1, 3.8, 1.4, 22.6, 19.4, 15.9]`\n",
        "\n",
        "with different combinations of requested statistics (or no request)."
      ]
    },
    {
      "cell_type": "code",
      "execution_count": 9,
      "metadata": {
        "id": "r-a9C0XyEg77"
      },
      "outputs": [
        {
          "name": "stdout",
          "output_type": "stream",
          "text": [
            "('mean',) VALUE IN STATS\n",
            "('mean', 'sum') VALUE IN STATS\n",
            "('rms', 'max', 'min') VALUE IN STATS\n",
            "('max', 'min', 'mean', 'sum', 'rms') VALUE IN STATS\n"
          ]
        },
        {
          "data": {
            "text/plain": [
              "{'()': (6.571428571428571,),\n",
              " \"('mean', 'sum')\": (6.571428571428571, 46.0),\n",
              " \"('rms', 'max', 'min')\": (19.340483078617392, 22.6, -34.2),\n",
              " \"('max', 'min', 'mean', 'sum', 'rms')\": (22.6,\n",
              "  -34.2,\n",
              "  6.571428571428571,\n",
              "  46.0,\n",
              "  19.340483078617392)}"
            ]
          },
          "execution_count": 9,
          "metadata": {},
          "output_type": "execute_result"
        }
      ],
      "source": [
        "#Code Here\n",
        "from math import sqrt\n",
        "\n",
        "def compute(numbers, stats=(\"mean\",)):\n",
        "    print(stats, \"VALUE IN STATS\")\n",
        "    res = []\n",
        "    N = len(numbers)\n",
        "    if (len(stats) == 0) :\n",
        "        mean_val = sum(numbers) # N THIS IS NOT NEEDED SINCE WE WILL TEST DIFFERENTLY\n",
        "        res.append(mean_val) #but it works if we pass an empty string \n",
        "        # BUT IF THE USER STILL PASSES IN A BLANK STRING WE HAVE THIS SAFETY CHECK\n",
        "    for i in stats:\n",
        "        if (i == \"mean\" ):\n",
        "            mean_val = sum(numbers) / N\n",
        "            res.append(mean_val)\n",
        "        elif(i == \"sum\"):\n",
        "            sum_val = sum(numbers)\n",
        "            res.append(sum_val)\n",
        "        elif(i == \"rms\"):\n",
        "            rms_val = sqrt(sum(x**2 for x in numbers)/ N)\n",
        "            res.append(rms_val)\n",
        "        elif(i == \"max\"):\n",
        "            max_val = max(numbers)\n",
        "            res.append(max_val)\n",
        "        elif(i == \"min\"):\n",
        "            min_val = min(numbers)\n",
        "            res.append(min_val)\n",
        "    return tuple(res)\n",
        "test_list = [-34.2, 17.1, 3.8, 1.4, 22.6, 19.4, 15.9]\n",
        "test_cases = [\n",
        "    (),\n",
        "    (\"mean\", \"sum\"),\n",
        "    (\"rms\", \"max\", \"min\"),\n",
        "    (\"max\", \"min\", \"mean\", \"sum\", \"rms\")\n",
        "]\n",
        "results = {str(case): compute(test_list, case) if len(case) != 0 else compute(test_list) for case in test_cases}\n",
        "results"
      ]
    },
    {
      "cell_type": "code",
      "execution_count": null,
      "metadata": {
        "id": "1uWZ5H7IEr0N"
      },
      "outputs": [],
      "source": [
        "%%capture\n",
        "# Here we use a script to generate pdf and save it to google drive.\n",
        "\n",
        "# After executing this cell, you will be asked to link to your GoogleDrive account.\n",
        "# Then, the pdf will be generated and saved to your GoogleDrive account and you need to go there to download;\n",
        "\n",
        "from google.colab import drive\n",
        "drive.mount('/content/drive')\n",
        "# install tex; first run may take several minutes\n",
        "! apt-get install texlive-xetex\n",
        "# file path and save location below are default; please change if they do not match yours\n",
        "! jupyter nbconvert --output-dir='/content/drive/MyDrive/' '/content/drive/MyDrive/Colab Notebooks/lec09_ASTR.ipynb' --to pdf"
      ]
    }
  ],
  "metadata": {
    "colab": {
      "provenance": []
    },
    "kernelspec": {
      "display_name": "Python 3",
      "name": "python3"
    },
    "language_info": {
      "codemirror_mode": {
        "name": "ipython",
        "version": 3
      },
      "file_extension": ".py",
      "mimetype": "text/x-python",
      "name": "python",
      "nbconvert_exporter": "python",
      "pygments_lexer": "ipython3",
      "version": "3.12.2"
    }
  },
  "nbformat": 4,
  "nbformat_minor": 0
}
