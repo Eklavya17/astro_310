{
  "cells": [
    {
      "cell_type": "markdown",
      "metadata": {
        "id": "Pk9FISMb7G27"
      },
      "source": [
        "Name:   Eklavya Tyagi\n",
        "Net ID:   etyagi2\n",
        "\n"
      ]
    },
    {
      "cell_type": "markdown",
      "metadata": {
        "id": "HsfibmBe7LA2"
      },
      "source": [
        "### Exercise 1: random stuff\n",
        "\n",
        "The `random` module in the standard library provides random number-related functions, particularly:\n",
        "\n",
        "- `random.randint(a, b)`: return a random integer between `a` and `b`, inclusive\n",
        "- `random.random()`: return a random float in the range [0,1)\n",
        "- `random.shuffle(S)`: randomly shuffle the sequence `S` in place\n",
        "- `random.choice(S)`: return a random choice from the sequence `S`\n",
        "\n",
        "Write Python code to:\n",
        "- create a sorted random list of 100 floats between 0 and 2π\n",
        "- generate a six-digit random integer code (convert to string and pad with zeros if it is less than 100000)\n",
        "- generate a ten-character random string containing characters from a set including upper- and lowercase letters, digits, and `#!$@%^&*`. You may like to check helpful information in the documentation for the `string` library. [6 pts]\n"
      ]
    },
    {
      "cell_type": "code",
      "execution_count": 5,
      "metadata": {
        "id": "GZz5qEmX6F0Y"
      },
      "outputs": [
        {
          "name": "stdout",
          "output_type": "stream",
          "text": [
            "[0.09368264424721753, 0.237882402621867, 0.3665614952092273, 0.4476305748510021, 0.6047576208570021, 0.6659337090488311, 0.6780144855990825, 0.6837140821787633, 0.690338946977371, 0.6998370887589301, 0.7473908766668496, 0.851902714534055, 0.8814071346656348, 0.8979304683865683, 0.8985691368133095, 0.9523844598558999, 1.029809359062137, 1.063296228781826, 1.142068854820129, 1.2679897888253167, 1.2791428180547932, 1.2929587405372849, 1.3573254293187877, 1.3882156900830396, 1.448978368798809, 1.4827603709122195, 1.5212677101372438, 1.5792284441020816, 1.6132368114059534, 1.6132958190282838, 1.6386063538408933, 1.6816222079899048, 1.7116597596694647, 1.7336520420581538, 1.8124722501514643, 1.8317153665290027, 1.8576306417924902, 1.9465448302637287, 1.9859849372675222, 1.9990637107546194, 2.107386530055865, 2.1954877529338193, 2.215333820104513, 2.2615956386529037, 2.4293182625016305, 2.4788493768107918, 2.508027524367379, 2.590950174581247, 2.6312006629971902, 2.7808325013723927, 2.798879786869712, 2.8571835664326173, 2.9206460103641416, 3.0189319214012467, 3.1280786595151575, 3.192564406376732, 3.2099505313029306, 3.2318409967843804, 3.2655718876688464, 3.2876472693034637, 3.4277864977331083, 3.4364282679469724, 3.46952835644826, 3.48781573235493, 3.528943248224344, 3.584884655489212, 3.612101727537313, 3.6176627505290684, 3.791437439921529, 3.9062118667808283, 4.016806193824358, 4.355465747465414, 4.460729660678214, 4.463991326258174, 4.614329583740998, 4.840046380384603, 4.840180313127031, 4.914770191765806, 4.957162909738967, 4.990160032345206, 5.182518346109825, 5.416480379631825, 5.445382009453445, 5.460869659198714, 5.474403431169275, 5.561618884626423, 5.564399872136646, 5.585283815010471, 5.719815025008267, 5.772421518892816, 5.786597473165143, 5.808565376458642, 5.830448415300425, 5.858452105090994, 5.865205482507519, 5.983521253992274, 6.056478171272298, 6.062608873032016, 6.092735932380055, 6.115594982978744]\n",
            "$5OHu2*HD7\n"
          ]
        }
      ],
      "source": [
        "#Code Here\n",
        "\n",
        "import math\n",
        "import random\n",
        "import string\n",
        "random_val = [random.uniform(0, 2 * math.pi) for _ in range(100)]\n",
        "random_val.sort()\n",
        "print(random_val)\n",
        "\n",
        "random_int_code = str(random.randint(100000, 999999))\n",
        "char = string.ascii_letters + string.digits + \"#!$@%^&*\"\n",
        "rand_string = ''.join(random.choice(char) for _ in range(10))\n",
        "print(rand_string)\n",
        "\n"
      ]
    },
    {
      "cell_type": "markdown",
      "metadata": {
        "id": "5zcpwNyP8yS7"
      },
      "source": [
        "### Exercise 2: time\n",
        "\n",
        "The `time` module in the standard library provides, unsurprisingly, time-related functions, in particular:\n",
        "\n",
        "- `time.time()`: return the number of seconds since January 1, 1970 00:00:00 UTC (known as the epoch)\n",
        "- `time.localtime()`: return a `time_struct` object containing the local time\n",
        "- `time.asctime(ts)`: given a `time_struct` object `ts`, return a string-formatted date and time\n",
        "- `time.perf_counter()`: return seconds of a highly accurate counter\n",
        "- `time.sleep(n)`: pause for `n` seconds\n",
        "\n",
        "Download the Sieve of Eratosthenes module (`sieve.py`) from the course Canvas page. This contains a single function, `getprimes(n)`, which returns a list of all primes up to `n`. You can import this function into your notebook with `import`.\n",
        "\n",
        "Write a Python function to accept a value of `n`, then time a call to `getprimes(n)` and return a tuple containing the output of the function and the elapsed time.\n",
        "\n",
        "If you get bored: make your timing function work with generic functions with arbitrary arguments. $[5 pts]$\n"
      ]
    },
    {
      "cell_type": "code",
      "execution_count": 8,
      "metadata": {
        "id": "cpS8SIPv81L9"
      },
      "outputs": [
        {
          "name": "stdout",
          "output_type": "stream",
          "text": [
            "Found 26 primes up to 100 in 1.7099999240599573e-05 seconds.\n"
          ]
        }
      ],
      "source": [
        "#Code Here\n",
        "import time\n",
        "from sieve import getprimes\n",
        "\n",
        "def time_fn(func, *args, **kwargs):\n",
        "    start = time.perf_counter()\n",
        "    result = func(*args, **kwargs)\n",
        "    end_time = time.perf_counter()\n",
        "    elapsed = end_time - start\n",
        "    return result, elapsed\n",
        "\n",
        "n = 100\n",
        "primes, elapsed = time_fn(getprimes,n)\n",
        "\n",
        "print(f\"Found {len(primes)} primes up to {n} in {elapsed} seconds.\")"
      ]
    },
    {
      "cell_type": "markdown",
      "metadata": {
        "id": "ij_fgI9384gq"
      },
      "source": [
        "### Exercise 3: directory listing\n",
        "\n",
        "Write a standalone Python program (not a Jupyter notebook) that uses the `sys` and `os` modules to generate a directory tree listing. The program should take one argument, the name of a directory, and recursively print the names of all files and directories below it. Try to produce output like the following:\n",
        "\n",
        "foo  \n",
        "|-- a.txt  \n",
        "|-- b.txt  \n",
        "|-- code  \n",
        "|   |-- a.py  \n",
        "|   |-- b.py  \n",
        "|   |-- docs  \n",
        "|   |   |-- a.txt  \n",
        "|   |   |-- b.txt  \n",
        "|   |-- x.py  \n",
        "|-- z.txt  \n",
        "\n",
        "$[9 pts]$"
      ]
    },
    {
      "cell_type": "code",
      "execution_count": 12,
      "metadata": {
        "id": "mEbd8md29Bu9"
      },
      "outputs": [
        {
          "name": "stdout",
          "output_type": "stream",
          "text": [
            "Error: --f=c:\\Users\\eklav\\AppData\\Roaming\\jupyter\\runtime\\kernel-v2-46024ZQUek7MdpGIo.json is not a valid directory\n"
          ]
        },
        {
          "ename": "SystemExit",
          "evalue": "1",
          "output_type": "error",
          "traceback": [
            "An exception has occurred, use %tb to see the full traceback.\n",
            "\u001b[1;31mSystemExit\u001b[0m\u001b[1;31m:\u001b[0m 1\n"
          ]
        },
        {
          "ename": "",
          "evalue": "",
          "output_type": "error",
          "traceback": [
            "\u001b[1;31mThe Kernel crashed while executing code in the current cell or a previous cell. \n",
            "\u001b[1;31mPlease review the code in the cell(s) to identify a possible cause of the failure. \n",
            "\u001b[1;31mClick <a href='https://aka.ms/vscodeJupyterKernelCrash'>here</a> for more info. \n",
            "\u001b[1;31mView Jupyter <a href='command:jupyter.viewOutput'>log</a> for further details."
          ]
        }
      ],
      "source": [
        "#Code Here\n",
        "\n",
        "import os\n",
        "import sys\n",
        "\n",
        "def print_dir_tree(startpath):\n",
        "    for root, dirs, files in os.walk(startpath):\n",
        "        level = root.replace(startpath, '').count(os.sep)\n",
        "        indent = ' ' * 4 * (level)\n",
        "        print(f\"{indent}|-- {os.path.basename(root)}/\" if root != startpath else f\"{os.path.basename(root)}/\")\n",
        "        subindent = ' ' * 4 * (level + 1)\n",
        "        for f in files:\n",
        "            print(f\"{subindent}|-- {f}\")\n",
        "\n",
        "if __name__ == \"__main__\":\n",
        "    if len(sys.argv) != 2:\n",
        "        print(\"Usage: python dir_tree.py [directory]\")\n",
        "        sys.exit(1)\n",
        "    directory = sys.argv[1]\n",
        "    if not os.path.isdir(directory):\n",
        "        print(f\"Error: {directory} is not a valid directory\")\n",
        "        sys.exit(1)\n",
        "    print_dir_tree(directory)\n"
      ]
    },
    {
      "cell_type": "markdown",
      "metadata": {},
      "source": [
        "HELLO\n",
        "astro_310/\n",
        "    |-- HWs/\n",
        "        |-- ASTRO_310_4.ipynb\n",
        "        |-- HW4_ASTR_310.ipynb\n",
        "        |-- .git/\n",
        "            |-- COMMIT_EDITMSG\n",
        "            |-- config\n",
        "            |-- description\n",
        "            |-- HEAD\n",
        "            |-- index\n",
        "            |-- hooks/\n",
        "                |-- applypatch-msg.sample\n",
        "                |-- commit-msg.sample\n",
        "                |-- fsmonitor-watchman.sample\n",
        "                |-- post-update.sample\n",
        "                |-- pre-applypatch.sample\n",
        "                |-- pre-commit.sample\n",
        "                |-- pre-merge-commit.sample\n",
        "                |-- pre-push.sample\n",
        "                |-- pre-rebase.sample\n",
        "                |-- pre-receive.sample\n",
        "                |-- prepare-commit-msg.sample\n",
        "                |-- push-to-checkout.sample\n",
        "                |-- sendemail-validate.sample\n",
        "                |-- update.sample\n",
        "            |-- info/\n",
        "                |-- exclude\n",
        "            |-- logs/\n",
        "                |-- HEAD\n",
        "                |-- refs/\n",
        "                    |-- heads/\n",
        "                        |-- main\n",
        "                    |-- remotes/\n",
        "                        |-- origin/\n",
        "                            |-- main\n",
        "            |-- objects/\n",
        "                |-- 0a/\n",
        "                    |-- 24265155e5d41afdf5026c3c4733b8a082cd5f\n",
        "                |-- 28/\n",
        "                    |-- 8d44e57e036f1a8cfd8463a71c36efc04ddd24\n",
        "                |-- 4a/\n",
        "                    |-- b3bd51b46b1df065665aaadbfb8e7f3cf16ada\n",
        "                |-- 52/\n",
        "                    |-- 2079e0564d02f2f624ff5849553458d613805b\n",
        "                |-- 8a/\n",
        "                    |-- df34867e59e12f815cdf7c8818cbaf6d5ac4a0\n",
        "                |-- a8/\n",
        "                    |-- 8cebc66694d167996ec9569721826e2f8bb660\n",
        "                |-- b2/\n",
        "                    |-- 6323c18083a1e8c283e5c6e2ae3899b7f82152\n",
        "                |-- info/\n",
        "                |-- pack/\n",
        "            |-- refs/\n",
        "                |-- heads/\n",
        "                    |-- main\n",
        "                |-- remotes/\n",
        "                    |-- origin/\n",
        "                        |-- main\n",
        "                |-- tags/\n",
        "    |-- labs/\n",
        "        |-- lab10/\n",
        "            |-- In_Class_Exercises_11.ipynb\n",
        "            |-- lec11-modules.pdf\n",
        "            |-- sieve.py\n",
        "            |-- __pycache__/\n",
        "                |-- sieve.cpython-312.pyc\n",
        "        |-- lab5/\n",
        "            |-- lab5.ipynb\n",
        "            |-- lab5.pdf\n",
        "        |-- lab6/\n",
        "            |-- lab6.ipynb\n",
        "            |-- lab6.pdf\n",
        "        |-- lab7/\n",
        "            |-- lab7.ipynb\n",
        "            |-- lab7.pdf\n",
        "            |-- table.out\n",
        "        |-- lab8/\n",
        "            |-- lec09_ASTR.ipynb\n",
        "            |-- lec09_ASTR.pdf\n",
        "        |-- lab9/\n",
        "            |-- lec10_ASTR.ipynb\n",
        "            |-- lec10_ASTR.pdf\n",
        "        |-- lab_2/\n",
        "        |-- lab_3/\n",
        "            |-- ASTR310 EX 25.1.24.ipynb\n",
        "            |-- ASTR310_EX_25.1.24.ipynb\n",
        "            |-- ASTR310_EX_25.1.24.pdf\n",
        "            |-- event_confi.pdf\n",
        "        |-- lab_4/\n",
        "            |-- lab4.ipynb\n",
        "            |-- lab4.pdf\n",
        "\n",
        "        HERE IS THE RESPONSE"
      ]
    },
    {
      "cell_type": "code",
      "execution_count": null,
      "metadata": {
        "id": "bKbmoIk7-xN9"
      },
      "outputs": [],
      "source": [
        "%%capture\n",
        "# Here we use a script to generate pdf and save it to google drive.\n",
        "\n",
        "# After executing this cell, you will be asked to link to your GoogleDrive account.\n",
        "# Then, the pdf will be generated and saved to your GoogleDrive account and you need to go there to download;\n",
        "\n",
        "from google.colab import drive\n",
        "drive.mount('/content/drive')\n",
        "# install tex; first run may take several minutes\n",
        "! apt-get install texlive-xetex\n",
        "# file path and save location below are default; please change if they do not match yours\n",
        "! jupyter nbconvert --output-dir='/content/drive/MyDrive/' '/content/drive/MyDrive/Colab Notebooks/In_Class_Exercises_11.ipynb' --to pdf"
      ]
    }
  ],
  "metadata": {
    "colab": {
      "provenance": []
    },
    "kernelspec": {
      "display_name": "Python 3",
      "name": "python3"
    },
    "language_info": {
      "codemirror_mode": {
        "name": "ipython",
        "version": 3
      },
      "file_extension": ".py",
      "mimetype": "text/x-python",
      "name": "python",
      "nbconvert_exporter": "python",
      "pygments_lexer": "ipython3",
      "version": "3.12.2"
    }
  },
  "nbformat": 4,
  "nbformat_minor": 0
}
