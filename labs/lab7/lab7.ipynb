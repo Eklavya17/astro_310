{
 "cells": [
  {
   "cell_type": "markdown",
   "metadata": {},
   "source": [
    "Using list comprehensions and/or mapping and/or zip [Reading\n",
    "7], write Python code to:\n",
    "1. Create a list x containing 10 values equally spaced from 0 to\n",
    "2π inclusive.\n",
    "2. Create a second list y containing values of .\n",
    "3. Create a third list z that is True if y > 1.5 and false otherwise.\n",
    "4. Print a table of values containing x and y, formatted in columns\n",
    "10 characters wide with 5 decimal places, and z, formatted in\n",
    "columns 5 characters wide. You can use either a string or an\n",
    "integer format for the booleans.\n",
    "x sin2(3x/π)\n",
    "Exercise 1: list comprehensions, mapping, formatted output\n"
   ]
  },
  {
   "cell_type": "code",
   "execution_count": 27,
   "metadata": {},
   "outputs": [
    {
     "name": "stdout",
     "output_type": "stream",
     "text": [
      "Value of x : 0.00000 Value of y : 0.00000 Value of Z False:\n",
      "Value of x : 0.69813 Value of y : 0.43170 Value of Z False:\n",
      "Value of x : 1.39626 Value of y : 1.35708 Value of Z False:\n",
      "Value of x : 2.09440 Value of y : 1.90443 Value of Z True :\n",
      "Value of x : 2.79253 Value of y : 1.27695 Value of Z False:\n",
      "Value of x : 3.49066 Value of y : -0.66521 Value of Z False:\n",
      "Value of x : 4.18879 Value of y : -3.17009 Value of Z False:\n",
      "Value of x : 4.88692 Value of y : -4.88181 Value of Z False:\n",
      "Value of x : 5.58505 Value of y : -4.54249 Value of Z False:\n",
      "Value of x : 6.28319 Value of y : -1.75562 Value of Z False:\n"
     ]
    }
   ],
   "source": [
    "import numpy as np\n",
    "x = np.linspace(0,2 * np.pi, 10)\n",
    "# print(x)\n",
    "\n",
    "y = x * np.sin(3 * x / np.pi)\n",
    "\n",
    "z = [i > 1.5 for i in y]\n",
    "\n",
    "for i,j,k in zip(x,y,z) :\n",
    "    k = str(k)\"Value of x : {0:.5f}\".format(i) , \"Value of y : {0:.5f}\".format(j), \"Value of Z {0:5s}:\".format(k))"
   ]
  },
  {
   "cell_type": "markdown",
   "metadata": {},
   "source": [
    "Now write the output from exercise 1 to a text file called\n",
    "“table.out”. Then read this file back in to three lists a, b, c, and\n",
    "verify that they are the same as x, y, z.\n"
   ]
  },
  {
   "cell_type": "code",
   "execution_count": 39,
   "metadata": {},
   "outputs": [],
   "source": [
    "with open(\"table.out\", \"a\") as f:\n",
    "    \n",
    "    for i,j,k in zip(x,y,z) :\n",
    "        k = str(k)\n",
    "        f.write(f\"{i:10.5f} {j:10.5f} {k:5}\\n\")\n",
    "    f.close"
   ]
  },
  {
   "cell_type": "code",
   "execution_count": 84,
   "metadata": {},
   "outputs": [
    {
     "data": {
      "text/plain": [
       "['0.00000',\n",
       " '0.69813',\n",
       " '1.39626',\n",
       " '2.09440',\n",
       " '2.79253',\n",
       " '3.49066',\n",
       " '4.18879',\n",
       " '4.88692',\n",
       " '5.58505',\n",
       " '6.28319']"
      ]
     },
     "execution_count": 84,
     "metadata": {},
     "output_type": "execute_result"
    }
   ],
   "source": [
    "a ,b,c = [],[],[]\n",
    "with open(\"table.out\", \"r\") as f:\n",
    "    # x = f.readline()\n",
    "    for line in f:\n",
    "        i, j, k = line.split()\n",
    "        k = str(k)\n",
    "        a.append(\"{0:.5f}\".format(float(i)))\n",
    "        b.append(\"{0:.5f}\".format(float(j)))\n",
    "        c.append(\"{0:5s}\".format(k))\n",
    "\n",
    "\n",
    "a"
   ]
  },
  {
   "cell_type": "code",
   "execution_count": 88,
   "metadata": {},
   "outputs": [
    {
     "name": "stdout",
     "output_type": "stream",
     "text": [
      "True\n"
     ]
    }
   ],
   "source": [
    "flag = True\n",
    "for i,j,k,l,m,n in zip(x,a,y,b,z,c) :\n",
    "    i = \"{0:.5f}\".format(float(i))\n",
    "    k = \"{0:.5f}\".format(float(k))\n",
    "    m = str(m)\n",
    "    m = (\"{0:5s}\".format(m))\n",
    "    if (i != j or k != l or m != n) :\n",
    "        flag = False\n",
    "        break\n",
    "if (flag) :\n",
    "    print(\"True\")"
   ]
  },
  {
   "cell_type": "code",
   "execution_count": 103,
   "metadata": {},
   "outputs": [
    {
     "name": "stdout",
     "output_type": "stream",
     "text": [
      "Vowel Counts:\n",
      "a : 3\n",
      "e : 10\n",
      "i : 5\n",
      "o : 2\n",
      "u : 2\n",
      "There are 17 cats in 12 buildings with 4 bowls in each.\n"
     ]
    }
   ],
   "source": [
    "def process_string(input):\n",
    "    vowels = ['a','e','i','o','u']\n",
    "    vowel_count = {vowel: 0 for vowel in vowels}\n",
    "    for i in input.lower():\n",
    "        if i in vowels:\n",
    "            vowel_count[i] += 1\n",
    "    print(\"Vowel Counts:\")\n",
    "    for i in vowels:\n",
    "        print(f\"{i} : {vowel_count[i]}\")\n",
    "    number_word_to_num = {\n",
    "        \"zero\": \"0\", \"one\": \"1\", \"two\": \"2\", \"three\": \"3\", \"four\": \"4\",\n",
    "        \"five\": \"5\", \"six\": \"6\", \"seven\": \"7\", \"eight\": \"8\", \"nine\": \"9\",\n",
    "        \"ten\": \"10\", \"eleven\": \"11\", \"twelve\": \"12\", \"thirteen\": \"13\",\n",
    "        \"fourteen\": \"14\", \"fifteen\": \"15\", \"sixteen\": \"16\", \"seventeen\": \"17\",\n",
    "        \"eighteen\": \"18\", \"nineteen\": \"19\"\n",
    "    }\n",
    "    words = input.split()\n",
    "\n",
    "    replaced_string = \" \".join([number_word_to_num[word] if word in number_word_to_num else word for word in words])\n",
    "\n",
    "    print(replaced_string)\n",
    "    \n",
    "\n",
    "\n",
    "\n",
    "process_string(\"There are seventeen cats in twelve buildings with four bowls in each.\")\n",
    "\n",
    "\n",
    "\n"
   ]
  },
  {
   "cell_type": "code",
   "execution_count": 2,
   "metadata": {},
   "outputs": [
    {
     "name": "stdout",
     "output_type": "stream",
     "text": [
      "Ethay ickquay ownbray oxfay umpedjay overway ethay honestway og’sday ackbay\n"
     ]
    },
    {
     "ename": "",
     "evalue": "",
     "output_type": "error",
     "traceback": [
      "\u001b[1;31mThe Kernel crashed while executing code in the current cell or a previous cell. \n",
      "\u001b[1;31mPlease review the code in the cell(s) to identify a possible cause of the failure. \n",
      "\u001b[1;31mClick <a href='https://aka.ms/vscodeJupyterKernelCrash'>here</a> for more info. \n",
      "\u001b[1;31mView Jupyter <a href='command:jupyter.viewOutput'>log</a> for further details."
     ]
    }
   ],
   "source": [
    "string = \"The quick brown fox jumped over the honest dog’s back\"\n",
    "def pig_latin(input):\n",
    "    vowels = ['a','e','i','o','u', 'ho']   \n",
    "    words = input.split()\n",
    "    latin_words = []\n",
    "    for word in words:\n",
    "        if (word[0] in vowels or word[:2] in vowels):\n",
    "            new_word = word + \"way\"\n",
    "        else:\n",
    "            if (word.startswith(\"qu\")):\n",
    "                end = 2\n",
    "            else :\n",
    "                end = 0\n",
    "                for i in word:\n",
    "                    if i in vowels:\n",
    "                        break\n",
    "                    end += 1\n",
    "            new_word = word[end:] + word[:end] + \"ay\"\n",
    "        latin_words.append(new_word)\n",
    "    # input[]\n",
    "    latin_words[0] = latin_words[0].capitalize()\n",
    "    for i in range(1, len(latin_words)):\n",
    "        latin_words[i] = latin_words[i].lower()\n",
    "    return ' '.join(latin_words)\n",
    "    \n",
    "print(pig_latin(string))"
   ]
  },
  {
   "cell_type": "code",
   "execution_count": 12,
   "metadata": {},
   "outputs": [
    {
     "data": {
      "text/plain": [
       "5.132981645061818e-05"
      ]
     },
     "execution_count": 12,
     "metadata": {},
     "output_type": "execute_result"
    }
   ],
   "source": [
    "from math import sqrt\n",
    "import math\n",
    "I = 6\n",
    "A1 = A2 = sqrt(2 * I)\n",
    "A1,A2\n",
    "\n",
    "A_total = A2 **2 + A2 **2 + 2 * A2 * A1 * math.cos((53.41))\n",
    "A_total_s = sqrt(A_total)\n",
    "I_new = A_total /2\n",
    "I_new\n"
   ]
  },
  {
   "cell_type": "code",
   "execution_count": 17,
   "metadata": {},
   "outputs": [
    {
     "data": {
      "text/plain": [
       "0.005925158772688732"
      ]
     },
     "execution_count": 17,
     "metadata": {},
     "output_type": "execute_result"
    }
   ],
   "source": [
    "\n",
    "A = 2.025 * 2\n",
    "B = 2.25 * 2\n",
    "(A + B + 2 * sqrt(A) * sqrt(B) * math.cos(math.pi))/2"
   ]
  },
  {
   "cell_type": "code",
   "execution_count": 18,
   "metadata": {},
   "outputs": [
    {
     "data": {
      "text/plain": [
       "5.894262295081968e-07"
      ]
     },
     "execution_count": 18,
     "metadata": {},
     "output_type": "execute_result"
    }
   ],
   "source": [
    "(1.7 * 4.23 * 10 **-7 )/1.22"
   ]
  },
  {
   "cell_type": "code",
   "execution_count": 20,
   "metadata": {},
   "outputs": [
    {
     "data": {
      "text/plain": [
       "14.142135623730951"
      ]
     },
     "execution_count": 20,
     "metadata": {},
     "output_type": "execute_result"
    }
   ],
   "source": [
    "sqrt((2**2 + 14 **2  + 2.28* math.cos(math.pi/2)))"
   ]
  },
  {
   "cell_type": "code",
   "execution_count": 24,
   "metadata": {},
   "outputs": [
    {
     "data": {
      "text/plain": [
       "0.24285714285714285"
      ]
     },
     "execution_count": 24,
     "metadata": {},
     "output_type": "execute_result"
    }
   ],
   "source": [
    "(340/350)/4"
   ]
  },
  {
   "cell_type": "code",
   "execution_count": 23,
   "metadata": {},
   "outputs": [
    {
     "data": {
      "text/plain": [
       "0.8"
      ]
     },
     "execution_count": 23,
     "metadata": {},
     "output_type": "execute_result"
    }
   ],
   "source": [
    "340/425\n"
   ]
  },
  {
   "cell_type": "code",
   "execution_count": 26,
   "metadata": {},
   "outputs": [
    {
     "data": {
      "text/plain": [
       "1.3688148870903206e+16"
      ]
     },
     "execution_count": 26,
     "metadata": {},
     "output_type": "execute_result"
    }
   ],
   "source": [
    "h = 6.626 * 10** -34\n",
    "\n",
    "f = 4.30 * 10 **14\n",
    "E = h * f\n",
    "E\n",
    "l = 3.9 * 10 ** -3\n",
    "l / E"
   ]
  },
  {
   "cell_type": "code",
   "execution_count": 28,
   "metadata": {},
   "outputs": [
    {
     "data": {
      "text/plain": [
       "0.013002702927357754"
      ]
     },
     "execution_count": 28,
     "metadata": {},
     "output_type": "execute_result"
    }
   ],
   "source": [
    "math.radians(0.745)"
   ]
  },
  {
   "cell_type": "code",
   "execution_count": 30,
   "metadata": {},
   "outputs": [
    {
     "data": {
      "text/plain": [
       "0.02600687153428281"
      ]
     },
     "execution_count": 30,
     "metadata": {},
     "output_type": "execute_result"
    }
   ],
   "source": [
    "2 * math.tan(0.013002702927357754)"
   ]
  },
  {
   "cell_type": "code",
   "execution_count": 31,
   "metadata": {},
   "outputs": [
    {
     "data": {
      "text/plain": [
       "3.235294117647059e-06"
      ]
     },
     "execution_count": 31,
     "metadata": {},
     "output_type": "execute_result"
    }
   ],
   "source": [
    "(2* 550 *10**-9)/0.34"
   ]
  },
  {
   "cell_type": "code",
   "execution_count": 35,
   "metadata": {},
   "outputs": [
    {
     "data": {
      "text/plain": [
       "3.281711143242449e-06"
      ]
     },
     "execution_count": 35,
     "metadata": {},
     "output_type": "execute_result"
    }
   ],
   "source": [
    "\n",
    "\n",
    "x = math.atan(0.34/2)\n",
    "y = (550 * 10 **-9/ math.sin(x))\n",
    "y"
   ]
  },
  {
   "cell_type": "code",
   "execution_count": 38,
   "metadata": {},
   "outputs": [],
   "source": [
    "r = 1.5 * 10 **11\n",
    "d = 4.2 * 10 **16\n",
    "\n",
    "x = r/d\n",
    "\n",
    "d = (1.22 * 570 * 10 **-9 )/math.sin(x)\n"
   ]
  },
  {
   "cell_type": "code",
   "execution_count": 39,
   "metadata": {},
   "outputs": [
    {
     "data": {
      "text/plain": [
       "0.19471200000041394"
      ]
     },
     "execution_count": 39,
     "metadata": {},
     "output_type": "execute_result"
    }
   ],
   "source": [
    "d"
   ]
  },
  {
   "cell_type": "code",
   "execution_count": 44,
   "metadata": {},
   "outputs": [
    {
     "data": {
      "text/plain": [
       "2.571428571428729e-06"
      ]
     },
     "execution_count": 44,
     "metadata": {},
     "output_type": "execute_result"
    }
   ],
   "source": [
    "x = (3 * 10 ** 8 )/(7 * 10 ** 14 )\n",
    "2 * 3 * math.tan(x)"
   ]
  }
 ],
 "metadata": {
  "kernelspec": {
   "display_name": "Python 3",
   "language": "python",
   "name": "python3"
  },
  "language_info": {
   "codemirror_mode": {
    "name": "ipython",
    "version": 3
   },
   "file_extension": ".py",
   "mimetype": "text/x-python",
   "name": "python",
   "nbconvert_exporter": "python",
   "pygments_lexer": "ipython3",
   "version": "3.11.8"
  }
 },
 "nbformat": 4,
 "nbformat_minor": 2
}
