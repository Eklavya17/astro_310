{
 "cells": [
  {
   "cell_type": "markdown",
   "metadata": {},
   "source": [
    "1. \n",
    "Create a 10x5x4 array A containing 200 values logarithmically spaced\n",
    "between 10–3 and 10 7 . Print A[3,0,2], A[5,4,1], and the last element of A.\n",
    "\n",
    "2.\n",
    "Create an array B containing\n",
    "and set all the elements of B larger than 4 equal to 4. Print B\n",
    "\n",
    "3.\n",
    "Create a 10x10 array C that contains zeros in all elements for which either\n",
    "index is odd and ones in all other elements. Print C.\n",
    "Exercise 1: manipulating NumPy arrays\n"
   ]
  },
  {
   "cell_type": "code",
   "execution_count": 10,
   "metadata": {},
   "outputs": [
    {
     "name": "stdout",
     "output_type": "stream",
     "text": [
      "Value of A[3,0,2] -> 1.3049019780144029 \n",
      "Value of A[5,4,1] -> 757.525025877192  \n",
      "Value of Last A  -> 10000000.0\n",
      "[[-2  4  4  1]\n",
      " [ 4  4  2  0]\n",
      " [ 1  4 -4  4]\n",
      " [ 3  4 -9  4]]\n",
      "[[0. 1. 0. 1. 0. 1. 0. 1. 0. 1.]\n",
      " [0. 0. 0. 0. 0. 0. 0. 0. 0. 0.]\n",
      " [0. 1. 0. 1. 0. 1. 0. 1. 0. 1.]\n",
      " [0. 0. 0. 0. 0. 0. 0. 0. 0. 0.]\n",
      " [0. 1. 0. 1. 0. 1. 0. 1. 0. 1.]\n",
      " [0. 0. 0. 0. 0. 0. 0. 0. 0. 0.]\n",
      " [0. 1. 0. 1. 0. 1. 0. 1. 0. 1.]\n",
      " [0. 0. 0. 0. 0. 0. 0. 0. 0. 0.]\n",
      " [0. 1. 0. 1. 0. 1. 0. 1. 0. 1.]\n",
      " [0. 0. 0. 0. 0. 0. 0. 0. 0. 0.]]\n"
     ]
    }
   ],
   "source": [
    "import numpy as np\n",
    "# 1\n",
    "A = np.logspace(-3, 7, num=200).reshape(10, 5, 4)\n",
    "\n",
    "A_1 = A[3, 0, 2]\n",
    "A_2 = A[5, 4, 1]\n",
    "A_last = A[-1, -1, -1]\n",
    "\n",
    "# 2\n",
    "print(\"Value of A[3,0,2] ->\" ,A_1 ,\"\\nValue of A[5,4,1] ->\", A_2, \" \\nValue of Last A  ->\", A_last)\n",
    "\n",
    "\n",
    "B = np.array([[-2,8,10,1],[17,9,2,0],[1,6,-4,10],[3,8,-9,4]])\n",
    "B[B > 4] = 4\n",
    "\n",
    "print(B)\n",
    "\n",
    "# 3\n",
    "C = np.zeros((10,10))\n",
    "\n",
    "C[::2,1::2] = 1\n",
    "C[1::2, ::2] - 1\n",
    "\n",
    "print(C)"
   ]
  },
  {
   "cell_type": "markdown",
   "metadata": {},
   "source": [
    "Use NumPy arrays to do the following:\n",
    "• Create two arrays x and y containing 10 equally-spaced values between –π\n",
    "and π, then create a 2d grid of values z containing sin(x)*cos(y) at the\n",
    "coordinates (x,y) given by the elements of x and y. (See the reading on\n",
    "meshes or np.indices.)\n",
    "• Find the sum over the innermost 4x4 grid points of z.\n",
    "• Define a function f(x) that returns x 2 if its input is a scalar. If its input is an\n",
    "array, return an array with the same shape containing the squares of the\n",
    "element values. Print f(z) and f(2).\n",
    "• Create a 1D array containing the maximum value of z for each value of y.\n",
    "(Hint: see the help file on np.max for how to control the dimensionality of its\n",
    "output.)\n",
    "Exercise 2: computing with NumPy arrays\n"
   ]
  },
  {
   "cell_type": "code",
   "execution_count": 12,
   "metadata": {},
   "outputs": [
    {
     "name": "stdout",
     "output_type": "stream",
     "text": [
      "-6.661338147750939e-16\n",
      "Value of f(z) -> [[1.49975978e-32 4.13175911e-01 9.69846310e-01 7.50000000e-01\n",
      "  1.16977778e-01 1.16977778e-01 7.50000000e-01 9.69846310e-01\n",
      "  4.13175911e-01 1.49975978e-32]\n",
      " [8.80095168e-33 2.42461578e-01 5.69129177e-01 4.40118067e-01\n",
      "  6.86453782e-02 6.86453782e-02 4.40118067e-01 5.69129177e-01\n",
      "  2.42461578e-01 8.80095168e-33]\n",
      " [4.52232910e-34 1.24587782e-02 2.92444446e-02 2.26152672e-02\n",
      "  3.52731162e-03 3.52731162e-03 2.26152672e-02 2.92444446e-02\n",
      "  1.24587782e-02 4.52232910e-34]\n",
      " [3.74939946e-33 1.03293978e-01 2.42461578e-01 1.87500000e-01\n",
      "  2.92444446e-02 2.92444446e-02 1.87500000e-01 2.42461578e-01\n",
      "  1.03293978e-01 3.74939946e-33]\n",
      " [1.32432122e-32 3.64843511e-01 8.56395844e-01 6.62266666e-01\n",
      "  1.03293978e-01 1.03293978e-01 6.62266666e-01 8.56395844e-01\n",
      "  3.64843511e-01 1.32432122e-32]\n",
      " [1.32432122e-32 3.64843511e-01 8.56395844e-01 6.62266666e-01\n",
      "  1.03293978e-01 1.03293978e-01 6.62266666e-01 8.56395844e-01\n",
      "  3.64843511e-01 1.32432122e-32]\n",
      " [3.74939946e-33 1.03293978e-01 2.42461578e-01 1.87500000e-01\n",
      "  2.92444446e-02 2.92444446e-02 1.87500000e-01 2.42461578e-01\n",
      "  1.03293978e-01 3.74939946e-33]\n",
      " [4.52232910e-34 1.24587782e-02 2.92444446e-02 2.26152672e-02\n",
      "  3.52731162e-03 3.52731162e-03 2.26152672e-02 2.92444446e-02\n",
      "  1.24587782e-02 4.52232910e-34]\n",
      " [8.80095168e-33 2.42461578e-01 5.69129177e-01 4.40118067e-01\n",
      "  6.86453782e-02 6.86453782e-02 4.40118067e-01 5.69129177e-01\n",
      "  2.42461578e-01 8.80095168e-33]\n",
      " [1.49975978e-32 4.13175911e-01 9.69846310e-01 7.50000000e-01\n",
      "  1.16977778e-01 1.16977778e-01 7.50000000e-01 9.69846310e-01\n",
      "  4.13175911e-01 1.49975978e-32]]  \n",
      "Value of f(2) -> 4\n",
      "[0.98480775 0.75440651 0.17101007 0.49240388 0.92541658 0.92541658\n",
      " 0.49240388 0.17101007 0.75440651 0.98480775]\n"
     ]
    }
   ],
   "source": [
    "# creating two arrays with 10 equaly spaced value from -pi to pi\n",
    "\n",
    "x = np.linspace(-np.pi, np.pi, 10)\n",
    "y = np.linspace(-np.pi, np.pi, 10)\n",
    "\n",
    "# 2-d grid\n",
    "X, Y = np.meshgrid(x, y)\n",
    "\n",
    "# find z\n",
    "Z = np.sin(X) * np.cos(Y)\n",
    "\n",
    "in_sum = Z[3:7, 3:7].sum()\n",
    "print(in_sum)\n",
    "def f(x):\n",
    "    if np.isscalar(x):\n",
    "        return x ** 2\n",
    "    else:\n",
    "        return np.square(x)\n",
    "    \n",
    "f_z = f(Z)\n",
    "f_2 = f(2)\n",
    "print(\"Value of f(z) ->\" , f_z, \" \\nValue of f(2) ->\", f_2)\n",
    "max_val = Z.max(axis = 1)\n",
    "print(max_val)\n"
   ]
  },
  {
   "cell_type": "markdown",
   "metadata": {},
   "source": [
    "Construct two 1D coordinate arrays x and y, each filled with 100 random numbers\n",
    "drawn from a uniform (flat) distribution ranging from 0 to 1 inclusive. Sort the\n",
    "arrays.\n",
    "2. Construct 2D meshgrids from x and y.\n",
    "3. Use the meshgrids to construct the 2D uniformly sampled function z(x,y) \n",
    "4. NumPy provides a histogram function that we can use to find the frequency of\n",
    "occurrence of different values of z. The most common usage is\n",
    "hist, bin_edges = np.histogram(z, bins=10)\n",
    "where the bins argument supplies the number of bins (or a list of bin right-edge\n",
    "values), hist contains the histogram counts, and bin_edges contains the bin\n",
    "edges (its length is len(hist) + 1).\n",
    "5. Use the histogram function to construct a histogram of z values with bin width\n",
    "0.1, and print the counts in a table like the one below.\n",
    "1.) 0.0 0.1 9013\n",
    "2.) 0.1 0.2 245\n",
    "3.) 0.2 0.3 ."
   ]
  },
  {
   "cell_type": "code",
   "execution_count": 24,
   "metadata": {},
   "outputs": [
    {
     "data": {
      "text/plain": [
       "[(1, 0.0, 0.1, 9054),\n",
       " (2, 0.1, 0.2, 295),\n",
       " (3, 0.2, 0.3, 191),\n",
       " (4, 0.3, 0.4, 144),\n",
       " (5, 0.4, 0.5, 116),\n",
       " (6, 0.5, 0.6, 67),\n",
       " (7, 0.6, 0.7, 42),\n",
       " (8, 0.7, 0.8, 31),\n",
       " (9, 0.8, 0.9, 38)]"
      ]
     },
     "execution_count": 24,
     "metadata": {},
     "output_type": "execute_result"
    }
   ],
   "source": [
    "x = np.random.uniform(0, 1, 100)\n",
    "y = np.random.uniform(0, 1, 100)\n",
    "\n",
    "\n",
    "x.sort(), y.sort()\n",
    "\n",
    "X,Y = np.meshgrid(x,y)\n",
    "Z = np.exp(-(X**2 + Y**2) / 0.05)\n",
    "\n",
    "minz, maxz = Z.min(), Z.max()\n",
    "bins = np.arange(minz,maxz, 0.1) #width of 0.1\n",
    "hist, bin_edge = np.histogram(Z, bins)\n",
    "bin_edge[0] = 0\n",
    "bin_edge = np.around(bin_edge, 2)\n",
    "table = [(i+1, bin_edge[i], bin_edge[i+1], hist[i]) for i in range(len(hist))]\n",
    "table[:10]"
   ]
  }
 ],
 "metadata": {
  "kernelspec": {
   "display_name": "Python 3",
   "language": "python",
   "name": "python3"
  },
  "language_info": {
   "codemirror_mode": {
    "name": "ipython",
    "version": 3
   },
   "file_extension": ".py",
   "mimetype": "text/x-python",
   "name": "python",
   "nbconvert_exporter": "python",
   "pygments_lexer": "ipython3",
   "version": "3.11.8"
  }
 },
 "nbformat": 4,
 "nbformat_minor": 2
}
