{
  "cells": [
    {
      "cell_type": "markdown",
      "metadata": {
        "id": "07IMU6Q-X_Sp"
      },
      "source": [
        "**Exercise 1: Robust type conversion**  \n",
        "Write a Python function convert_type(s) that takes a string s and\n",
        "converts it to a float if it is a number with a decimal point, converts it to\n",
        "an int if it is an integer, or leaves it as a string otherwise, and returns\n",
        "the result. If anything fails, return None. You will want to use\n",
        "exceptions to prevent the code from aborting. Test your function with\n",
        "the inputs  \n",
        "\n",
        "```\n",
        "'-3.4e12'  \n",
        "'89.1'  \n",
        "'.9623'  \n",
        "'42'  \n",
        "'hello there'  \n",
        "6  \n",
        "['6', 'hello']\n",
        "```\n",
        "$[6pts]$\n"
      ]
    },
    {
      "cell_type": "code",
      "execution_count": 3,
      "metadata": {
        "id": "9uNEMqfMX-Tr"
      },
      "outputs": [
        {
          "data": {
            "text/plain": [
              "[-3400000000000, 89.1, 0.9623, 42, 'hello there', 6, None]"
            ]
          },
          "execution_count": 3,
          "metadata": {},
          "output_type": "execute_result"
        }
      ],
      "source": [
        "#Code Here\n",
        "def convert_type(s):\n",
        "    try:\n",
        "        float_conversion = float(s)\n",
        "        if float_conversion.is_integer():\n",
        "            return int(float_conversion)\n",
        "        else:\n",
        "            return float_conversion\n",
        "    except ValueError:\n",
        "        return s\n",
        "\n",
        "    except TypeError:\n",
        "        return None\n",
        "    \n",
        "\n",
        "test_inputs = ['-3.4e12', '89.1', '.9623', '42', 'hello there', 6, ['6', 'hello']]\n",
        "test_results = [convert_type(i) for i in test_inputs]\n",
        "\n",
        "test_results"
      ]
    },
    {
      "cell_type": "markdown",
      "metadata": {
        "id": "JdVkqHm6Yfjv"
      },
      "source": [
        "**Exercise 2: validating user input**  \n",
        "Write Python code that repeatedly prompts the user for two\n",
        "numbers and prints their ratio, halting when the user types\n",
        "anything other than two numbers. If the second number is zero,\n",
        "politely remind the user that you cannot divide by zero, but\n",
        "continue to accept input. Use exception handling.\n",
        "$[7 pts]$"
      ]
    },
    {
      "cell_type": "code",
      "execution_count": 6,
      "metadata": {
        "id": "xDoe2MkLYnWt"
      },
      "outputs": [
        {
          "name": "stdout",
          "output_type": "stream",
          "text": [
            "The ratio is: 2.0 for 8.0 and 4.0\n",
            "The ratio is: 1408.4558491340954 for 123456789.0 and 87654.0\n",
            "The ratio is: 83666477415.94597 for 5.678987654323457e+16 and 678765.0\n",
            "Cannot divide by zero, please try again.\n",
            "The ratio is: 180.3846153846154 for 2345.0 and 13.0\n",
            "Non-numeric input detected, exiting.\n"
          ]
        }
      ],
      "source": [
        "#Code Here\n",
        "#Code Here\n",
        "while True:\n",
        "    try:\n",
        "        num1 = input(\"Enter Value 1: \")\n",
        "        num2 = input(\"Enter Value 2: \")\n",
        "        \n",
        "        num1 = float(num1)\n",
        "        num2 = float(num2)\n",
        "        \n",
        "        if num2 == 0:\n",
        "            print(\"Cannot divide by zero, please try again.\")\n",
        "            continue\n",
        "\n",
        "        r = num1 / num2\n",
        "        print(f\"The ratio is: {r} for {num1} and {num2}\")\n",
        "        \n",
        "    except ValueError:\n",
        "        print(\"Non-numeric input detected, exiting.\")\n",
        "        break"
      ]
    },
    {
      "cell_type": "markdown",
      "metadata": {
        "id": "EBdOFPkPYo2w"
      },
      "source": [
        "**Exercise 3: Godzilla**  \n",
        "Write Python code that repeatedly requests input to determine Godzilla's next\n",
        "move. It should display the menu\n",
        "\n",
        "Enter Godzilla's next move:  \n",
        "1 Crush Tokyo City Hall  \n",
        "2 Crush Diet Building  \n",
        "3 Crush Tokyo Tower  \n",
        "4 Fight Mothra  \n",
        "5 Return to the sea    \n",
        "\n",
        "If the user enters numbers 1-4, print the corresponding action (“Godzilla crushes\n",
        "Tokyo Tower. Ahhh!”). If the user enters 5, exit. If the user enters anything else,\n",
        "print a chastising message. (“That’s not allowed.”) Use exception handling, and\n",
        "write your code in a way that makes it easy to add new menu items. Whether or\n",
        "not the user gave valid input, print a blank line before printing the menu again. $[7 pts]$"
      ]
    },
    {
      "cell_type": "code",
      "execution_count": 10,
      "metadata": {
        "id": "lafyVtc2alOA"
      },
      "outputs": [
        {
          "name": "stdout",
          "output_type": "stream",
          "text": [
            "\n",
            "Enter Godzilla's next move:\n",
            "1 – Crush Tokyo City Hall\n",
            "2 – Crush Diet Building\n",
            "3 – Crush Tokyo Tower\n",
            "4 – Fight Mothra\n",
            "5 – Return to the sea\n",
            "That's not allowed.\n",
            "\n",
            "Enter Godzilla's next move:\n",
            "1 – Crush Tokyo City Hall\n",
            "2 – Crush Diet Building\n",
            "3 – Crush Tokyo Tower\n",
            "4 – Fight Mothra\n",
            "5 – Return to the sea\n",
            "Godzilla Crush Tokyo Tower. Ahhh!\n",
            "\n",
            "Enter Godzilla's next move:\n",
            "1 – Crush Tokyo City Hall\n",
            "2 – Crush Diet Building\n",
            "3 – Crush Tokyo Tower\n",
            "4 – Fight Mothra\n",
            "5 – Return to the sea\n",
            "Godzilla returns to the sea.\n"
          ]
        }
      ],
      "source": [
        "def godzilla_game():\n",
        "    actions = {\n",
        "        '1': 'Crush Tokyo City Hall',\n",
        "        '2': 'Crush Diet Building',\n",
        "        '3': 'Crush Tokyo Tower',\n",
        "        '4': 'Fight Mothra'\n",
        "    }\n",
        "\n",
        "    while True:\n",
        "        print(\"\\nEnter Godzilla's next move:\")\n",
        "        print(\"1 – Crush Tokyo City Hall\")\n",
        "        print(\"2 – Crush Diet Building\")\n",
        "        print(\"3 – Crush Tokyo Tower\")\n",
        "        print(\"4 – Fight Mothra\")\n",
        "        print(\"5 – Return to the sea\")\n",
        "\n",
        "        try:\n",
        "            choice = input()\n",
        "            if choice == '5':\n",
        "                print(\"Godzilla returns to the sea.\")\n",
        "                break\n",
        "            elif choice in actions:\n",
        "                print(f\"Godzilla {actions[choice]}. Ahhh!\")\n",
        "            else:\n",
        "                raise ValueError(\"That's not allowed.\")\n",
        "        except ValueError as e:\n",
        "            print(e)\n",
        "        # print(\"\\n\") \n",
        "godzilla_game()"
      ]
    },
    {
      "cell_type": "code",
      "execution_count": null,
      "metadata": {
        "id": "M4-odYLYYzIE"
      },
      "outputs": [],
      "source": [
        "%%capture\n",
        "# Here we use a script to generate pdf and save it to google drive.\n",
        "\n",
        "# After executing this cell, you will be asked to link to your GoogleDrive account.\n",
        "# Then, the pdf will be generated and saved to your GoogleDrive account and you need to go there to download;\n",
        "\n",
        "from google.colab import drive\n",
        "drive.mount('/content/drive')\n",
        "# install tex; first run may take several minutes\n",
        "! apt-get install texlive-xetex\n",
        "# file path and save location below are default; please change if they do not match yours\n",
        "! jupyter nbconvert --output-dir='/content/drive/MyDrive/' '/content/drive/MyDrive/Colab Notebooks/lec10_ASTR.ipynb' --to pdf"
      ]
    },
    {
      "cell_type": "code",
      "execution_count": 11,
      "metadata": {},
      "outputs": [
        {
          "data": {
            "text/plain": [
              "1240960.0"
            ]
          },
          "execution_count": 11,
          "metadata": {},
          "output_type": "execute_result"
        },
        {
          "ename": "",
          "evalue": "",
          "output_type": "error",
          "traceback": [
            "\u001b[1;31mThe Kernel crashed while executing code in the current cell or a previous cell. \n",
            "\u001b[1;31mPlease review the code in the cell(s) to identify a possible cause of the failure. \n",
            "\u001b[1;31mClick <a href='https://aka.ms/vscodeJupyterKernelCrash'>here</a> for more info. \n",
            "\u001b[1;31mView Jupyter <a href='command:jupyter.viewOutput'>log</a> for further details."
          ]
        }
      ],
      "source": [
        "f= 2481920\n",
        "f/2"
      ]
    }
  ],
  "metadata": {
    "colab": {
      "provenance": []
    },
    "kernelspec": {
      "display_name": "Python 3",
      "name": "python3"
    },
    "language_info": {
      "codemirror_mode": {
        "name": "ipython",
        "version": 3
      },
      "file_extension": ".py",
      "mimetype": "text/x-python",
      "name": "python",
      "nbconvert_exporter": "python",
      "pygments_lexer": "ipython3",
      "version": "3.11.8"
    }
  },
  "nbformat": 4,
  "nbformat_minor": 0
}
