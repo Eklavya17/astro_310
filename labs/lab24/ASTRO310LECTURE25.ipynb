{
 "cells": [
  {
   "cell_type": "markdown",
   "metadata": {},
   "source": [
    "Exercise 1: gas plus radiation\n",
    "A mixture of ionized hydrogen gas and radiation (such as at the center of\n",
    "the Sun) with a density and temperature has a pressure\n",
    "where , ,\n",
    "and .\n",
    "Find the temperature corresponding to and\n",
    "using Brent’s method. What are good starting\n",
    "guesses? A lower bound on the temperature is easy, but an upper bound\n",
    "requires more thought. You can find a strict upper limit by noting that since\n",
    "the temperature is always positive, the combined ideal gas and radiation\n",
    "pressure is always larger than either individual term alone.\n",
    "(Aside: if you’re wondering where the 2 came from, the ideal gas pressure\n",
    "has assumed pure H composition so that the mean mass per particle is\n",
    "m p /2.)\n",
    "ρ T\n",
    "k = 1.38 × 10−16 erg K −1 a = 7.56 × 10 −15 erg cm−3 K −4\n",
    "mp = 1.67 × 10 −24 g\n",
    "ρ = 80 g cm−3\n",
    "P = 1.3 × 10 18 dyn cm−2"
   ]
  },
  {
   "cell_type": "code",
   "execution_count": 20,
   "metadata": {},
   "outputs": [
    {
     "name": "stdout",
     "output_type": "stream",
     "text": [
      "The temperature at the given pressure is 115174584.60 K\n"
     ]
    }
   ],
   "source": [
    "import numpy as np\n",
    "import scipy.optimize as opt\n",
    "k = 1.38 * 10**-16\n",
    "a = 7.56 * 10**-15\n",
    "m_p = 1.67 * 10**-24\n",
    "rho = 90\n",
    "P = 1.3 * 10 **18\n",
    "def pressure(T):\n",
    "    gas_pressure = rho * k * T/m_p\n",
    "    rad_pres = (1/3) * a * T**4\n",
    "    return gas_pressure + rad_pres - P\n",
    "T_high = (3 * P/a) **0.25 #since it was to the power of 4 , and the multiply by 3 so inversing the radidation pressure\n",
    "T_root = opt.brentq(pressure,0,T_high)\n",
    "print(f\"The temperature at the given pressure is {T_root:.2f} K\")\n",
    "\n"
   ]
  },
  {
   "cell_type": "markdown",
   "metadata": {},
   "source": [
    "A projectile is launched from the surface of\n",
    "the Moon with a speed\n",
    "at an angle from the surface. This is\n",
    "not enough to achieve orbit, so the projectile\n",
    "falls back to the Moon’s surface. Ignoring the\n",
    "Moon’s rotation, what is the angle subtended by\n",
    "half of the trajectory?\n",
    "Orbital parameters: (compute from given data)\n",
    "Ellipse equation: (solve with SciPy)\n",
    "Physical data:\n",
    "v0 = 10 5 cm s−1\n",
    "α = 45∘\n",
    "θ0\n",
    "×\n",
    "r=R at launch and\n",
    "impact, so θ is the only\n",
    "unknown\n"
   ]
  },
  {
   "cell_type": "markdown",
   "metadata": {},
   "source": [
    "E0 = 1/2v0**2 -GM/R, a = -GM/2E0, J0 = Rv0 *cos(a), e = (1 + 2E0J0**2/(G**2*M**2))**1/2\n",
    "\n",
    "\n",
    "Ellipse Eq (solve with scipy):\n",
    "r**2sin**2(theta)/(a**2(1-e**2)) + (r * cos(theta) -a*e)**2/(a**2) = 1\n",
    "\n",
    "\n",
    "M = 7.348 * 10**25 , R = 1.737 *10**8, G = 6.673 * 10**-8"
   ]
  },
  {
   "cell_type": "code",
   "execution_count": 27,
   "metadata": {},
   "outputs": [
    {
     "name": "stdout",
     "output_type": "stream",
     "text": [
      "The angle of half of the trajectory is 1.8153364836 degrees.\n"
     ]
    }
   ],
   "source": [
    "G = 6.673 *10**-8\n",
    "M = 7.348 * 10**25\n",
    "R = 1.737 *10**8\n",
    "v0 = 10**5\n",
    "a = np.radians(45) #converting to radians\n",
    "\n",
    "E0 = 0.5 * v0 **2 -G*M/R \n",
    "a = -G*M/(2*E0)\n",
    "J0 = R*v0 * np.cos(a)\n",
    "e = (1 + 2 * E0 * J0**2 /(G**2 * M**2))\n",
    "\n",
    "def ellipse_eq(theta):\n",
    "    return R **2 * np.sin(theta) **2 /(a**2 * (1 - e**2)) + (R * np.cos(theta) - a * e)**2 / a**2 - 1\n",
    "\n",
    "# using bisect method to find sol since it has low cost\n",
    "sol = opt.bisect(ellipse_eq,(np.pi/2),0)\n",
    "sol\n",
    "print(f\"The angle of half of the trajectory is {np.degrees(sol):.10f} degrees.\")"
   ]
  },
  {
   "cell_type": "markdown",
   "metadata": {},
   "source": [
    "Using scipy.optimize.root, solve the system of equations\n",
    "for . Good starting guesses are ( ±1, ±1, 0) . There are four roots.\n",
    "Try using an error tolerance of 10–10 .\n",
    "Check carefully that you are actually getting four distinct roots – I had to tweak\n",
    "one of the starting guesses in order to pull out the fourth root.\n",
    "(x, y, z)\n"
   ]
  },
  {
   "cell_type": "markdown",
   "metadata": {},
   "source": [
    "Eqs are :\n",
    "9x**2 +36y**2 +4z**2 -36=0\n",
    "x**2 -2y**2 -20z = 0\n",
    "x**2-y**2+z**2 = 0"
   ]
  },
  {
   "cell_type": "code",
   "execution_count": 38,
   "metadata": {},
   "outputs": [],
   "source": [
    "def eq(var):\n",
    "    x,y,z = var\n",
    "    return np.array([ 9*x**2 + 36*y**2 + 4*z**2 - 36, x**2 - 2*y**2 - 20*z, x**2 - y**2 + z**2])\n"
   ]
  },
  {
   "cell_type": "code",
   "execution_count": 39,
   "metadata": {},
   "outputs": [
    {
     "name": "stdout",
     "output_type": "stream",
     "text": [
      "found root [ 0.89362811  0.89452706 -0.04008933]\n",
      "found root [-0.89362793  0.89452708 -0.04008938]\n",
      "found root [ 0.89363049 -0.89452647 -0.04008871]\n",
      " [-0.89362823  0.89452701 -0.04008929] is the multiple root\n",
      "Multiple roots found\n"
     ]
    }
   ],
   "source": [
    "init_guess = np.array([\n",
    "    [1,1,0],\n",
    "    [-1,1,0],\n",
    "    [1,-1,0],\n",
    "    [-1,-1,0]])\n",
    "sols = []\n",
    "for guess in init_guess:\n",
    "    sol = opt.root(eq,guess,method='broyden1')\n",
    "    if sol.success:\n",
    "        if not any(np.allclose(sol.x, existing_sol, atol=1e-6) for existing_sol in sols):\n",
    "            sols.append(sol.x)\n",
    "            print(f\"found root {sol.x}\")\n",
    "        else:\n",
    "            print(f\" {sol.x} is the multiple root\")\n",
    "            print(\"Multiple roots found\")\n",
    "    else:\n",
    "        print(\" Found no sol\")\n",
    "# sols"
   ]
  }
 ],
 "metadata": {
  "kernelspec": {
   "display_name": "Python 3",
   "language": "python",
   "name": "python3"
  },
  "language_info": {
   "codemirror_mode": {
    "name": "ipython",
    "version": 3
   },
   "file_extension": ".py",
   "mimetype": "text/x-python",
   "name": "python",
   "nbconvert_exporter": "python",
   "pygments_lexer": "ipython3",
   "version": "3.12.3"
  }
 },
 "nbformat": 4,
 "nbformat_minor": 2
}
