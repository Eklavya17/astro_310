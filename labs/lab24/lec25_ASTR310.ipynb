{
  "cells": [
    {
      "cell_type": "markdown",
      "metadata": {
        "id": "j8uDEStyXKby"
      },
      "source": [
        "### Exercise 1: gas plus radiation\n",
        "\n",
        "A mixture of ionized hydrogen gas and radiation (such as at the center of the Sun) with a density \\$\\rho\\$ and temperature \\$T\\$ has a pressure\n",
        "\n",
        "$$\n",
        "P = \\frac{2 \\rho k T}{m_p} + \\frac{1}{3} a T^4\n",
        "$$\n",
        "\n",
        "where \\$k = 1.38 \\times 10^{-16}\\$ erg \\$K^{-1}\\$, \\$a = 7.56 \\times 10^{-15}\\$ erg \\$cm^{-3} K^{-4}\\$, and \\$m_p = 1.67 \\times 10^{-24}\\$ g.  \n",
        "\n",
        "Find the temperature corresponding to \\$\\rho = 80 \\text{ g cm}^{-3}\\$ and \\$P = 1.3 \\times 10^{18} \\text{ dyn cm}^{-2}\\$ using Brent’s method. What are good starting guesses? A lower bound on the temperature is easy, but an upper bound requires more thought. You can find a strict upper limit by noting that since the temperature is always positive, the combined ideal gas and radiation pressure is always larger than either individual term alone.\n",
        "\n",
        "(Aside: if you're wondering where the \\(2\\) came from, the ideal gas pressure has assumed pure H composition so that the mean mass per particle is \\$m_p/2\\$.)\n",
        "\n",
        "\n"
      ]
    },
    {
      "cell_type": "code",
      "execution_count": 21,
      "metadata": {
        "id": "GdGZ2xr4XJnN"
      },
      "outputs": [
        {
          "name": "stdout",
          "output_type": "stream",
          "text": [
            "The temperature at the given pressure is 87269196.38 K\n"
          ]
        }
      ],
      "source": [
        "### CODE HERE\n",
        "import numpy as np\n",
        "import scipy.optimize as opt\n",
        "k = 1.38 * 10**-16\n",
        "a = 7.56 * 10**-15\n",
        "m_p = 1.67 * 10**-24\n",
        "rho = 80\n",
        "P = 1.3 * 10 **18\n",
        "def pressure(T):\n",
        "    gas_pressure = 2 * rho * k * T/m_p\n",
        "    rad_pres = (1/3) * a * T**4\n",
        "    return gas_pressure + rad_pres - P\n",
        "T_high = (3 * P/a) **0.25 #since it was to the power of 4 , and the multiply by 3 so inversing the radidation pressure\n",
        "T_root = opt.brentq(pressure,0,T_high)\n",
        "print(f\"The temperature at the given pressure is {T_root:.2f} K\")\n"
      ]
    },
    {
      "cell_type": "markdown",
      "metadata": {
        "id": "qJwfVwYHZDAL"
      },
      "source": [
        "### Exercise 2: Moon missile\n",
        "\n",
        "A projectile is launched from the surface of the Moon with a speed \\$v_0 = 10^5 \\text{ cm s}^{-1}\\$ at an angle \\$\\alpha = 45^\\circ\\$ from the surface. This is not enough to achieve orbit, so the projectile falls back to the Moon’s surface. Ignoring the Moon’s rotation, what is the angle \\$\\theta_0\\$ subtended by half of the trajectory?  \n",
        "\n",
        "Orbital parameters: (compute from given data)\n",
        "\n",
        "$$\n",
        "E_0 = \\frac{1}{2}v_0^2 - \\frac{GM}{R}\n",
        "$$\n",
        "\n",
        "$$\n",
        "a = -\\frac{GM}{2E_0}\n",
        "$$\n",
        "\n",
        "$$\n",
        "J_0 = Rv_0 \\cos \\alpha\n",
        "$$\n",
        "\n",
        "$$\n",
        "e = \\left(1 + \\frac{2E_0J_0^2}{G^2 M^2}\\right)^{1/2}\n",
        "$$\n",
        "\n",
        "\n",
        "Ellipse equation: (solve with SciPy)\n",
        "\n",
        "$$\n",
        "\\frac{r^2 \\sin^2 \\theta}{a^2(1 - e^2)} + \\frac{(r \\cos \\theta - ae)^2}{a^2} = 1\n",
        "$$\n",
        "\n",
        "**Physical data:**\n",
        "\n",
        "$$\n",
        "M = 7.348 \\times 10^{25} \\text{ g} \\quad R = 1.737 \\times 10^8 \\text{ cm} \\quad G = 6.673 \\times 10^{-8} \\text{ cm}^3 \\text{ s}^{-2} \\text{ g}^{-1}\n",
        "$$\n",
        "\n",
        "> $r=R$ at launch and impact, so $\\theta$ is the only unknown\n"
      ]
    },
    {
      "cell_type": "code",
      "execution_count": 22,
      "metadata": {
        "id": "ZsXZpLLSaCpz"
      },
      "outputs": [
        {
          "name": "stdout",
          "output_type": "stream",
          "text": [
            "The angle of half of the trajectory is 10.1618410681 degrees.\n"
          ]
        }
      ],
      "source": [
        "### CODE HERE\n",
        "G = 6.673 *10**-8\n",
        "M = 7.348 * 10**25\n",
        "R = 1.737 *10**8\n",
        "v0 = 10**5\n",
        "alp = np.radians(45) #converting to radians\n",
        "\n",
        "E0 = 0.5 * v0 **2 -G*M/R \n",
        "a = -G*M/(2*E0)\n",
        "J0 = R*v0 * np.cos(alp)\n",
        "e = (1 + 2 * E0 * J0**2 /(G**2 * M**2))\n",
        "\n",
        "def ellipse_eq(theta):\n",
        "    return R **2 * np.sin(theta) **2 /(a**2 * (1 - e**2)) + (R * np.cos(theta) - a * e)**2 / a**2 - 1\n",
        "\n",
        "# using bisect method to find sol since it has low cost\n",
        "sol = opt.bisect(ellipse_eq, 0, np.pi/2)\n",
        "sol\n",
        "print(f\"The angle of half of the trajectory is {np.degrees(sol):.10f} degrees.\")"
      ]
    },
    {
      "cell_type": "markdown",
      "metadata": {
        "id": "z8oAPHK5bS8x"
      },
      "source": [
        "### Exercise 3: a nonlinear system of equations\n",
        "\n",
        "Using `scipy.optimize.root`, solve the system of equations\n",
        "\n",
        "$$\n",
        "9x^2 + 36y^2 + z^2 - 36 = 0\n",
        "$$\n",
        "$$\n",
        "x^2 - 2y^2 - 20z = 0\n",
        "$$\n",
        "$$\n",
        "x^2 - y^2 + z^2 = 0\n",
        "$$\n",
        "\n",
        "for $(x, y, z)$. Good starting guesses are $(±1, ±1, 0)$. There are four roots. Try using an error tolerance of $10^{-10}$.\n",
        "\n",
        "Check carefully that you are actually getting four distinct roots – I had to tweak one of the starting guesses in order to pull out the fourth root.\n"
      ]
    },
    {
      "cell_type": "code",
      "execution_count": 23,
      "metadata": {
        "id": "jOF_HVImbp28"
      },
      "outputs": [
        {
          "name": "stdout",
          "output_type": "stream",
          "text": [
            "found root [ 0.89368765  0.89458708 -0.04009481]\n",
            "found root [-0.89368825  0.89458691 -0.0400946 ]\n",
            "found root [ 0.89368866 -0.89458676 -0.04009449]\n",
            " [-0.89368876  0.89458673 -0.04009447] is the multiple root\n",
            "Multiple roots found\n"
          ]
        }
      ],
      "source": [
        "### CODE HERE\n",
        "def eq(var):\n",
        "    x,y,z = var\n",
        "    return np.array([ 9*x**2 + 36*y**2 + z**2 - 36, x**2 - 2*y**2 - 20*z, x**2 - y**2 + z**2])\n",
        "init_guess = np.array([\n",
        "    [1,1,0],\n",
        "    [-1,1,0],\n",
        "    [1,-1,0],\n",
        "    [-1,-1,0]])\n",
        "sols = []\n",
        "for guess in init_guess:\n",
        "    sol = opt.root(eq,guess,method='broyden1')\n",
        "    if sol.success:\n",
        "        if not any(np.allclose(sol.x, k, atol=1e-6) for k in sols):\n",
        "            sols.append(sol.x)\n",
        "            print(f\"found root {sol.x}\")\n",
        "        else:\n",
        "            print(f\" {sol.x} is the multiple root\")\n",
        "            print(\"Multiple roots found\")\n",
        "    else:\n",
        "        print(\" Found no sol\")"
      ]
    }
  ],
  "metadata": {
    "colab": {
      "provenance": []
    },
    "kernelspec": {
      "display_name": "Python 3",
      "name": "python3"
    },
    "language_info": {
      "codemirror_mode": {
        "name": "ipython",
        "version": 3
      },
      "file_extension": ".py",
      "mimetype": "text/x-python",
      "name": "python",
      "nbconvert_exporter": "python",
      "pygments_lexer": "ipython3",
      "version": "3.12.3"
    }
  },
  "nbformat": 4,
  "nbformat_minor": 0
}
