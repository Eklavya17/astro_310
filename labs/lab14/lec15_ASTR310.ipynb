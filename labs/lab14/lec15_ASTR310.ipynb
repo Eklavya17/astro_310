{
  "cells": [
    {
      "cell_type": "markdown",
      "metadata": {
        "id": "jOA1B_OyFxrM"
      },
      "source": [
        "# Exercise 1: reading a table and converting coordinates/times (10 points)\n",
        "\n",
        "1. Download the file `fermi_lat_grbs.dat` from today’s exercise page on the website. It contains 1000 gamma-ray bursts observed by the Fermi satellite between 2010 and 2018.\n",
        "\n",
        "2. Use the `astropy.io.ascii.read()` routine to read the file into a table. You need to specify the `header_start`, `data_start`, and `delimiter` arguments.\n",
        "\n",
        "3. Display the column headers using the `columns` or `colnames` method.\n",
        "\n",
        "4. Notice that RA and DEC are in sexagesimal format, represented as strings. Use `astropy.coordinates.Angle` to convert them to decimal degrees.  Print the table.\n",
        "\n",
        "5. Do some brief analysis:  \n",
        "  a) Construct a boolean mask array that selects only those bursts with durations $t_{90} < 2$ seconds and relative errors in the duration $\\frac{t_{90\\_error}}{t_{90}} < 50\\%$.  \n",
        "  b) Construct a second boolean mask array that selects $t_{90} > 2$ seconds with the same relative error.  \n",
        "  c) Compare the median peak energy ($f_{lnc\\_band\\_epeak}$) of the two samples. Use the NumPy `median` function to compute the values.\n"
      ]
    },
    {
      "cell_type": "code",
      "execution_count": 2,
      "metadata": {
        "id": "ILGbKTG6E_Js"
      },
      "outputs": [
        {
          "name": "stdout",
          "output_type": "stream",
          "text": [
            "<TableColumns names=('col0','name','ra','dec','trigger_time','t90','t90_error','t90_start','fluence','fluence_error','flux_1024','flux_1024_error','flux_1024_time','flux_64','flux_64_error','flnc_band_ampl','flnc_band_ampl_pos_err','flnc_band_ampl_neg_err','flnc_band_epeak','flnc_band_epeak_pos_err','flnc_band_epeak_neg_err','flnc_band_alpha','flnc_band_alpha_pos_err','flnc_band_alpha_neg_err','flnc_band_beta','flnc_band_beta_pos_err','flnc_band_beta_neg_err','flnc_spectrum_start','flnc_spectrum_stop','pflx_best_fitting_model','pflx_best_model_redchisq','flnc_best_fitting_model','flnc_best_model_redchisq','_1')>\n",
            "        ra        \n",
            "       deg        \n",
            "------------------\n",
            "337.86999999999995\n",
            "356.95916666666665\n",
            "211.21999999999997\n",
            "            209.14\n",
            "2.8999999999999995\n",
            " 9.479999999999999\n",
            "244.03999999999996\n",
            "20.722916666666666\n",
            " 311.3299999999999\n",
            "160.42999999999998\n",
            "               ...\n",
            "            308.56\n",
            "235.66999999999996\n",
            "159.91083333333333\n",
            "              52.3\n",
            "202.26999999999995\n",
            " 304.9599999999999\n",
            "246.66083333333327\n",
            "             59.72\n",
            "184.44499999999996\n",
            "284.67999999999995\n",
            "Length = 1000 rows\n",
            "        dec        \n",
            "        deg        \n",
            "-------------------\n",
            " -80.03999999999999\n",
            "            -79.905\n",
            "             -79.69\n",
            "              -79.1\n",
            "             -79.01\n",
            "              -78.2\n",
            "             -77.86\n",
            " -77.78388888888888\n",
            "              -74.5\n",
            "             -74.28\n",
            "                ...\n",
            "             -39.36\n",
            "             -39.34\n",
            " -39.32805555555556\n",
            "             -39.21\n",
            "              -39.2\n",
            "             -39.18\n",
            " -39.15888888888889\n",
            "              -37.2\n",
            "-37.086111111111116\n",
            "             -37.03\n",
            "Length = 1000 rows\n"
          ]
        },
        {
          "name": "stderr",
          "output_type": "stream",
          "text": [
            "C:\\Users\\eklav\\AppData\\Local\\Packages\\PythonSoftwareFoundation.Python.3.11_qbz5n2kfra8p0\\LocalCache\\local-packages\\Python311\\site-packages\\numpy\\core\\fromnumeric.py:771: UserWarning: Warning: 'partition' will ignore the 'mask' of the MaskedColumn.\n",
            "  a.partition(kth, axis=axis, kind=kind, order=order)\n"
          ]
        }
      ],
      "source": [
        "#Code Here\n",
        "import numpy as np\n",
        "import astropy\n",
        "from astropy import units as units\n",
        "from astropy.table import Table\n",
        "from astropy import coordinates\n",
        "from astropy import units as u\n",
        "# Q.1,2\n",
        "data = astropy.io.ascii.read(r\"C:\\Users\\eklav\\OneDrive - University of Illinois - Urbana\\astro_310\\labs\\lab14\\fermi_lat_grbs.dat\",format='basic', delimiter='|', guess=False, header_start = 2, data_start = 3)\n",
        "# Q.3\n",
        "print(data.columns)\n",
        "# Q.4\n",
        "data['ra'] = coordinates.Angle(data['ra'],unit = u.hour)\n",
        "\n",
        "data['dec'] = coordinates.Angle(data['dec'],unit = u.deg)\n",
        "\n",
        "data['ra'] = (data['ra']).to(u.deg)\n",
        "data['dec'] = (data['dec']).to(u.deg)\n",
        "\n",
        "print(data['ra'])\n",
        "print(data['dec'])\n",
        "\n",
        "# Q 5\n",
        "mask_short_bursts = (data['t90'] < 2) & ((data['t90_error'] / data['t90']) < 0.5)\n",
        "mask_long_bursts = (data['t90'] > 2) & ((data['t90_error'] / data['t90']) < 0.5)\n",
        "short_bursts_epeak = data['flnc_band_epeak'][mask_short_bursts]\n",
        "long_bursts_epeak = data['flnc_band_epeak'][mask_long_bursts]\n",
        "median_peak_energy_short = np.median(short_bursts_epeak)\n",
        "median_peak_energy_long = np.median(long_bursts_epeak)\n",
        "\n"
      ]
    },
    {
      "cell_type": "code",
      "execution_count": 3,
      "metadata": {},
      "outputs": [
        {
          "data": {
            "text/plain": [
              "(359.3643, 135.48020000000002)"
            ]
          },
          "execution_count": 3,
          "metadata": {},
          "output_type": "execute_result"
        }
      ],
      "source": [
        "median_peak_energy_short, median_peak_energy_long"
      ]
    },
    {
      "cell_type": "markdown",
      "metadata": {
        "id": "bB-tKV3OGxzX"
      },
      "source": [
        "# Exercise 2: working with and modifying a table (10 points)\n",
        "\n",
        "Download the files \"mcxc.dat\" and \"mcxc.readme\" from today’s exercise page on the website. These files contain a catalog of X-ray-detected clusters of galaxies from Piffaretti et al. (2011) obtained through the VizieR service at the University of Strasbourg.\n",
        "\n",
        "1. Use `astropy.io.ascii.read()` to read the table and its metadata into Python. This table is in \"CDS\" format, and you specify the metadata file using the `readme` argument.\n",
        "\n",
        "2. Extract the log of L500 (luminosity in units of $10^{44} \\text{erg/s}$), log of M500 (mass in $10^{14}$ solar masses), and z (redshift) columns from the data into 1D arrays. Create a mask array selecting those clusters with redshift $< 0.1$.\n",
        "\n",
        "3. Now construct the array $r$ containing $r = \\log L - 1.64 \\log M$. The X-ray luminosity and mass of galaxy clusters are correlated roughly such that $L \\propto M^{5/3}$, so the range in $r$ is small.  \n",
        "  \n",
        "4. Modify the table to add a masked column (`MaskedColumn` object) for $r$, and use the description \"$r = \\log L - 1.64 \\log M$\" for that column. Use the mask array you created to mask those clusters you don't want to store $r$ values for. Print the table to check whether your column was added correctly. You should see \"--\" for masked-out rows.  \n",
        "\n",
        "5. Write the modified table to a file named \"mcxc_new.csv\" in comma-separated value (CSV) format.  \n",
        "\n",
        "\n"
      ]
    },
    {
      "cell_type": "code",
      "execution_count": 5,
      "metadata": {
        "id": "nDIzuV_3Gzme"
      },
      "outputs": [
        {
          "name": "stdout",
          "output_type": "stream",
          "text": [
            "[-1.012892 -0.48837  -1.528762 -1.997207 -1.614681 -1.169538 -2.294202\n",
            " -2.34182  -1.294671 -1.260939 -1.572374 -1.259829 -1.815282 -1.163526\n",
            " -2.483263 -2.112338 -1.616338 -2.366497 -2.387405 -0.699704 -1.025122\n",
            " -1.309052 -0.592733 -2.145387 -3.618647 -2.754706 -1.25405  -2.210964\n",
            " -2.621285 -1.921318 -1.446881 -1.106659 -2.60272  -1.785156 -0.581953\n",
            " -2.558346 -0.998769 -1.604541 -1.954547 -0.983408 -0.593058 -0.32764\n",
            " -1.021002 -0.178581 -1.577728 -0.715587 -0.590573 -1.981609 -0.534731\n",
            " -0.860869 -0.043123 -2.062197 -0.5445   -0.403451 -0.583102 -1.208672\n",
            " -0.183307 -1.104538 -0.645966 -1.256982 -0.876203 -1.530939 -0.069357\n",
            " -2.206527 -2.042895 -1.776408 -0.426818 -1.00719  -0.865692 -1.663936\n",
            " -1.736471 -1.315752 -1.438803 -0.918986 -1.672694 -1.453302 -0.356023\n",
            " -1.798011 -1.379327 -1.92645  -0.648112 -0.673878 -2.154409 -0.482401\n",
            " -1.09285  -3.369212 -3.503389 -2.219902 -1.219815 -0.930073 -0.432375\n",
            " -1.306341 -1.331942 -2.218432 -3.391544 -3.869953 -1.255464 -1.508218\n",
            " -1.741421 -0.542563 -0.355047 -2.528991 -2.307222 -0.32651  -0.517275\n",
            " -1.214832 -0.284539 -3.204957 -0.9648   -0.090326 -1.218576 -1.082294\n",
            " -1.518311 -1.461554 -3.223212 -1.592785 -1.671387 -2.394637 -0.943087\n",
            " -1.844747 -3.317772 -1.939197 -0.976622 -0.745411 -2.34049  -0.890905\n",
            " -3.497623 -2.922362 -1.819904 -1.163596 -1.522558 -2.19611  -2.197663\n",
            " -1.08186  -0.869286 -0.178018 -1.59701  -1.923204 -2.122688 -0.973175\n",
            " -1.925145 -1.714234 -1.774218 -2.240331 -2.259316 -1.416953 -1.001587\n",
            " -2.12274  -1.555549 -1.964482 -1.149787 -0.7182   -0.928189 -1.715283\n",
            " -1.933003 -2.913932 -1.283885 -0.627164 -2.244168 -1.438697 -2.624765\n",
            " -1.303362 -1.131413 -2.16163  -1.25296  -0.843688 -0.915835 -2.384241\n",
            " -1.982299 -2.558719 -1.611904 -2.691456 -1.885201 -3.264093 -3.280667\n",
            " -2.373267 -2.561801 -1.697878 -2.214359 -0.631168 -1.419727 -1.411281\n",
            " -2.954324 -1.9997   -1.523089 -0.455232 -1.627533 -1.653678 -2.425365\n",
            " -0.934185 -0.741919 -0.611806 -1.742705 -1.43583  -2.213051 -1.329487\n",
            " -1.311914 -2.889733 -3.2684   -2.050165 -0.236568 -1.98789  -1.780664\n",
            " -1.008058 -1.645322 -2.115724 -1.476773 -0.488898 -0.674959 -0.782526\n",
            " -0.731917 -1.453925 -1.277303 -0.579634 -3.501476 -2.206081 -2.42164\n",
            " -1.170518 -0.489681 -3.227834 -0.388534 -0.208667 -0.403083 -0.313334\n",
            " -0.703723 -0.114669 -0.608506 -1.250416 -1.38983  -0.2386   -0.590108\n",
            " -1.463845 -1.829536 -1.444607 -2.126429 -1.731004 -1.139978 -0.478544\n",
            " -0.967418 -0.61147  -1.198072 -1.991015 -0.198721 -1.319409 -1.893787\n",
            " -0.515603 -1.7774   -2.049322 -1.616152 -0.338746 -0.58973  -0.600557\n",
            " -1.510017 -1.850323 -0.392465 -0.635819 -0.560194 -0.860873 -1.471095\n",
            " -1.762714 -0.666579 -0.842487 -2.234448 -2.260766 -0.791851 -1.358076\n",
            " -0.019137 -0.165794 -1.229306 -0.6343   -0.378619 -1.158739 -0.568373\n",
            " -1.090561 -1.263052 -2.867855 -0.66546  -1.578461 -2.404669 -1.936852\n",
            " -1.406939 -0.982155 -1.849109 -1.609347 -1.639068 -0.92315  -1.870055\n",
            " -1.645096 -0.473708 -0.943486 -1.352558 -0.869308 -1.032098 -0.608945\n",
            " -1.910906 -1.035689 -3.145264 -2.136122 -0.051536 -0.794452 -0.015591\n",
            " -0.876452 -1.33259  -0.735004 -1.557981 -1.74679  -1.558019 -0.302538\n",
            " -1.661832 -0.408616 -1.921694 -1.608531 -2.065681 -0.191857 -2.436911\n",
            " -1.327779 -0.018331 -1.966088 -2.163983 -0.408702 -1.296123 -1.861315\n",
            " -2.317982 -1.875101 -1.103761 -1.426818 -2.900173 -0.28169  -2.506779\n",
            " -3.288286 -1.895551 -3.350619 -3.571188 -0.656331 -0.497962 -1.873914\n",
            " -1.892853 -2.147914 -0.342392 -1.551815 -2.105045 -1.700304 -0.313256\n",
            " -0.738406 -0.737978 -1.200788 -1.942401 -0.423331 -2.015383 -2.083155\n",
            " -2.771178 -3.379005 -0.26201  -0.558943 -0.262865 -2.026193 -0.252799\n",
            " -2.885221 -0.312905 -1.125204 -1.991833 -2.5407   -0.380101 -2.503666\n",
            " -0.198524 -1.298102 -0.071191 -2.577466 -1.961898 -0.36771  -0.963995\n",
            " -1.143301 -0.967108 -0.240728 -3.571068 -3.587853 -0.45241  -2.418899\n",
            " -1.224629 -2.218614 -1.172911 -0.755027 -3.055102 -2.231792 -1.792346\n",
            " -0.40124  -1.411325 -3.298319 -0.853582 -1.576897 -2.176764 -0.170295\n",
            " -2.136164 -1.976552 -0.551587 -1.418276 -0.130238 -2.314801 -1.533683\n",
            " -1.8872   -1.013161 -2.445823 -0.26864  -1.177391 -0.66509  -1.977489\n",
            " -0.363432 -0.202953 -3.197403 -2.498036 -0.620923 -2.721357 -2.648922\n",
            " -1.564369 -2.795161 -2.653129 -3.124918 -2.403253 -1.492943 -1.219233\n",
            " -0.51858  -2.975198 -1.822422 -2.893395 -2.148227 -1.860131 -1.274017\n",
            " -2.688437 -3.172087 -1.851496 -2.586148 -1.888634 -1.656304 -1.238875\n",
            " -0.806471 -0.490635 -1.631005 -1.068927 -2.408324 -0.534358 -0.937917\n",
            " -2.593647 -0.557032 -0.566908 -1.159607 -2.957973 -1.170439 -0.69917\n",
            " -1.889398 -3.638457 -2.12927  -0.453168 -2.937571 -0.987867 -1.371302\n",
            " -2.395347 -0.846196 -0.672049 -0.978515 -0.451207 -0.722976 -0.766413\n",
            " -1.551183 -3.319686 -3.426861 -2.083115 -2.314727 -2.733948 -1.327181\n",
            " -3.769695 -3.18618  -0.466614 -1.171603 -0.235444 -1.422089 -0.302935\n",
            " -0.533761 -0.34667  -0.150062 -0.157203 -2.110453 -1.159351 -0.865402\n",
            " -1.311458 -0.361789 -1.218899 -0.328675 -1.056523 -2.996398 -1.34638\n",
            " -0.18397  -0.29655  -0.85192  -0.287879 -1.271004 -1.719938 -0.382012\n",
            " -0.303414 -0.895578 -0.462214 -0.106699 -2.292391 -1.950173 -0.387698\n",
            " -1.300304 -0.619345 -0.240008 -2.823289 -0.122868 -0.666223 -0.441209\n",
            " -1.676341 -0.952213 -0.450215 -1.380621 -0.384784 -1.732374 -2.679678\n",
            " -1.363181 -1.600554 -1.678747 -0.771663 -0.346491 -1.865918 -0.391963\n",
            " -2.240597 -2.097079 -2.08738  -1.549607 -1.361621 -2.351067 -1.821141\n",
            " -3.626787 -2.115392 -2.445654 -1.808796 -2.319712 -2.472441 -0.118487\n",
            " -0.543271 -1.792802 -1.964453 -3.425885 -0.103347 -1.051602 -0.21325\n",
            " -3.606211 -1.866195 -0.42053  -1.895131 -1.504949 -2.700463 -3.153695\n",
            " -0.31148  -0.692401 -0.958589 -1.601445 -0.265687 -1.584555 -0.64816\n",
            " -1.230331 -1.128903 -1.651972 -1.834474 -1.792488 -0.939038 -0.540875\n",
            " -1.955043 -1.416027 -1.495058 -1.3877   -1.905384 -1.077056 -2.709489\n",
            " -0.321519 -0.635124 -2.668089 -2.249986 -2.102249 -2.018373 -1.545485\n",
            " -1.698908 -0.724762 -1.374567 -2.10386  -2.62333  -2.90388  -2.726209\n",
            " -1.526178 -1.195995 -2.232193 -2.052756 -1.769778 -3.321541 -2.053815\n",
            " -1.2781   -2.323064 -3.090323 -1.226374 -3.065216 -0.46924  -0.692919\n",
            " -2.517618 -2.725523 -2.670822 -2.110539 -1.914086 -2.762536 -2.042309\n",
            " -0.711583 -2.144658 -1.577506 -2.077412 -0.893511 -2.101287 -1.124154\n",
            " -0.963665 -3.008839 -0.457373 -3.098251 -0.476041 -2.612046 -0.736442\n",
            " -1.291315 -1.710905 -1.398658 -1.503314 -2.55116  -2.823661 -0.825819\n",
            " -2.352053 -1.668644 -1.346296 -1.338956 -0.86651  -2.596195 -0.465179\n",
            " -2.078877 -1.753874 -2.615996 -2.260918 -1.755869 -3.300709 -1.317805\n",
            " -2.962304 -1.476309 -1.658059 -1.231028 -1.609297 -2.092455 -1.551878\n",
            " -2.77563  -2.167596 -0.369748 -2.313311 -2.208298 -2.201311 -2.461703\n",
            " -0.566465 -1.980936 -1.373977 -2.74229  -2.179097]\n"
          ]
        }
      ],
      "source": [
        "#Code Here\n",
        "from astropy.table import Table, MaskedColumn\n",
        "data = astropy.io.ascii.read(r\"C:\\Users\\eklav\\OneDrive - University of Illinois - Urbana\\astro_310\\labs\\lab14\\mcxc.dat\", readme=\"mcxc.readme\", format=\"cds\")\n",
        "\n",
        "l500 = data['L500'].data\n",
        "M500 = data['M500'].data\n",
        "z = data['z'].data\n",
        "mask = z < 0.1\n",
        "filter_l500 = l500[mask]\n",
        "filter_M500 = M500[mask]\n",
        "filtered_z = z[mask]\n",
        "r = filter_l500 - 1.64 * filter_M500\n",
        "print(r)\n",
        "r = data['L500'] - 1.64 * data['M500']\n",
        "mask = data['z'] >= 0.1\n",
        "r_column = MaskedColumn(r, mask=mask, name='r', description='r = log L - 1.64 log M')\n"
      ]
    },
    {
      "cell_type": "code",
      "execution_count": 6,
      "metadata": {},
      "outputs": [
        {
          "name": "stdout",
          "output_type": "stream",
          "text": [
            "    MCXC          OName             AName        ... L500r4          r          \n",
            "                                                 ...              1e+37 W       \n",
            "------------ ---------------- ------------------ ... ------ --------------------\n",
            "J0000.1+0816 RXC J0000.1+0816          UGC 12890 ...     --            -1.012892\n",
            "J0000.4-0237 RXC J0000.4-0237                 -- ...     -- -0.48836999999999997\n",
            "J0001.6-1540 RXC J0001.6-1540                 -- ...     --                   --\n",
            "J0001.9+1204 RXC J0001.9+1204              A2692 ...     --                   --\n",
            "J0003.1-0605  RXCJ0003.1-0605              A2697 ...     --                   --\n",
            "J0003.2-3555  RXCJ0003.2-3555              A2717 ...     --            -1.528762\n",
            "J0003.8+0203  RXCJ0003.8+0203              A2700 ...     --  -1.9972069999999997\n",
            "J0004.9+1142 RXC J0004.9+1142          UGC 00032 ...     --            -1.614681\n",
            "J0005.3+1612 RXC J0005.3+1612              A2703 ...     --                   --\n",
            "J0006.0-3443  RXCJ0006.0-3443              A2721 ...     --                   --\n",
            "         ...              ...                ... ...    ...                  ...\n",
            "J2354.2-1024  RXCJ2354.2-1024              A2670 ...     --   -2.461702999999999\n",
            "J2355.1-1500      BVH2007 242          VMF98 223 ...     --  -0.5664649999999999\n",
            "J2355.6+1120 RXC J2355.6+1120              A2675 ...     --  -1.9809359999999998\n",
            "J2355.7+1138            A2678              A2678 ...     --  -1.3739769999999998\n",
            "J2355.8+3423 RXC J2355.8+3423              A2677 ...     --                   --\n",
            "J2357.0-3445  RXCJ2357.0-3445              A4059 ...     --             -2.74229\n",
            "J2359.3-6042  RXCJ2359.3-6042              A4067 ...     --  -2.1790969999999996\n",
            "J2359.4-3418    MS2356.9-3434                 -- ...     --                   --\n",
            "J2359.5-3211  RX J2359.5-3211 BSe RXJ2359.5-3211 ...     --                   --\n",
            "J2359.9-3928  RXCJ2359.9-3928              A4068 ...     --                   --\n",
            "Length = 1743 rows\n"
          ]
        },
        {
          "ename": "",
          "evalue": "",
          "output_type": "error",
          "traceback": [
            "\u001b[1;31mThe Kernel crashed while executing code in the current cell or a previous cell. \n",
            "\u001b[1;31mPlease review the code in the cell(s) to identify a possible cause of the failure. \n",
            "\u001b[1;31mClick <a href='https://aka.ms/vscodeJupyterKernelCrash'>here</a> for more info. \n",
            "\u001b[1;31mView Jupyter <a href='command:jupyter.viewOutput'>log</a> for further details."
          ]
        }
      ],
      "source": [
        "data.add_column(r_column)\n",
        "print(data)\n",
        "data.write(r'C:\\Users\\eklav\\OneDrive - University of Illinois - Urbana\\astro_310\\labs\\lab14\\mcxc_new.csv', format='csv', overwrite=True)"
      ]
    }
  ],
  "metadata": {
    "colab": {
      "provenance": []
    },
    "kernelspec": {
      "display_name": "Python 3",
      "name": "python3"
    },
    "language_info": {
      "codemirror_mode": {
        "name": "ipython",
        "version": 3
      },
      "file_extension": ".py",
      "mimetype": "text/x-python",
      "name": "python",
      "nbconvert_exporter": "python",
      "pygments_lexer": "ipython3",
      "version": "3.11.8"
    }
  },
  "nbformat": 4,
  "nbformat_minor": 0
}
