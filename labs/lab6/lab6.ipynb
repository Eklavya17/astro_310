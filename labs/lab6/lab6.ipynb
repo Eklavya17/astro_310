{
 "cells": [
  {
   "cell_type": "markdown",
   "metadata": {},
   "source": [
    "1. Create a list L containing 1000 ones.\n",
    "2. Set every third and every fifth entry to zero.\n",
    "3. Count the number of ones remaining.[533]\n",
    "4. Append to L a second list containing the first 500 multiples of 4.\n",
    "5. Print the sum of the values in the resulting list. [499533]\n",
    "<!-- You must use lists, not numpy arrays! We will get there soon! -->"
   ]
  },
  {
   "cell_type": "code",
   "execution_count": 13,
   "metadata": {},
   "outputs": [
    {
     "name": "stdout",
     "output_type": "stream",
     "text": [
      "Number of ones in List 533\n",
      "Sum of Value of resulting List 499533\n"
     ]
    }
   ],
   "source": [
    "List = [1] * 1000\n",
    "for i in range(len(List)):\n",
    "    if ((i + 1) % 3 == 0 or (i + 1) % 5 == 0):\n",
    "        List[i] = 0\n",
    "\n",
    "print(\"Number of ones in List\",List.count(1))\n",
    "\n",
    "table_4 = [i * 4 for i in range(1,500)]\n",
    "List.extend(table_4)\n",
    "sum_val = sum(List)\n",
    "print(\"Sum of Value of resulting List\", sum_val)"
   ]
  },
  {
   "cell_type": "markdown",
   "metadata": {},
   "source": [
    "1. Create three lists called stars, absmags, and distances containing\n",
    "stars: Vega, Deneb, Rigel, Sirius, Arcturus\n",
    "absmags: 0.582, -8.38, -7.84, 1.42, -0.30\n",
    "distances: 7.68, 802, 260, 2.64, 11.26\n",
    "2. Now create a new list, appmags, containing apparent magnitudes m calculated\n",
    "using m = M + 5(log d - 1)\n",
    "where M is the absolute magnitude and d is the distance in parsecs. Note that\n",
    "the logarithm is base-10, so use the log10 function from the math module. Iterate over the stars, printing for each star “The apparent magnitude of (star) is\n",
    "(appmag).”\n",
    "4. Practice with dictionaries by creating a dictionary for one of the stars. The keys\n",
    "should be 'm', 'M', and 'd', and the values should be the apparent magnitude and\n",
    "so on as appropriate.\n",
    "5. Now use the data in the four lists to create a nested dictionary called stardict.\n",
    "Each dictionary entry should have as its key the name of a star, and the value\n",
    "should be itself a dictionary like the one you created in #4 above.\n",
    "6. Print stardict['Rigel']['m']"
   ]
  },
  {
   "cell_type": "code",
   "execution_count": 17,
   "metadata": {},
   "outputs": [
    {
     "name": "stdout",
     "output_type": "stream",
     "text": [
      "The apparent magnitude of Vega is 4.705882312377728\n",
      "The apparent magnitude of Deneb is 6.138162580421186\n",
      "The apparent magnitude of Rigel is 4.22649882040626\n",
      "The apparent magnitude of Sirius is 2.4942192402384897\n",
      "The apparent magnitude of Arcturus is 4.755736803878988\n",
      "Star dictionary Rigel and M 4.22649882040626\n"
     ]
    }
   ],
   "source": [
    "import math\n",
    "stars = [\"Vega\", \"Deneb\", \"Rigel\", \"Sirius\", \"Arcturus\"]\n",
    "absmags = [0.582,-8.38, -7.84, 1.42,-0.30]\n",
    "distances = [7.68,802,260,2.64,11.26]\n",
    "\n",
    "appmags = []\n",
    "\n",
    "for M, d in zip(absmags, distances):\n",
    "    m = M + 5 * (math.log10(d - 1))\n",
    "    appmags.append(m)\n",
    "\n",
    "for star, appmag in zip(stars, appmags):\n",
    "    print(f\"The apparent magnitude of {star} is {appmag}\")\n",
    "\n",
    "dict_ = {\"m\": appmags[stars.index(\"Rigel\")], \"M\": absmags[stars.index(\"Rigel\")], \"d\": distances[stars.index(\"Rigel\")]}\n",
    "\n",
    "star_ = {}\n",
    "for i, M, d, m in zip(stars, absmags, distances, appmags):\n",
    "    star_[i] = {\"m\": m, \"M\": M, \"d\": d}\n",
    "print(\"Star dictionary Rigel and M\",star_['Rigel']['m'])"
   ]
  },
  {
   "cell_type": "code",
   "execution_count": 13,
   "metadata": {},
   "outputs": [
    {
     "data": {
      "text/plain": [
       "'00111111111000110000000000000000'"
      ]
     },
     "execution_count": 13,
     "metadata": {},
     "output_type": "execute_result"
    }
   ],
   "source": [
    "import struct\n",
    "def binary(num):\n",
    "    return ''.join('{:0>8b}'.format(c) for c in struct.pack('!f', num))\n",
    "binary(1.7734375)"
   ]
  },
  {
   "cell_type": "code",
   "execution_count": 14,
   "metadata": {},
   "outputs": [
    {
     "name": "stdout",
     "output_type": "stream",
     "text": [
      "Binary representation of 1.7734375 is 1.1100011\n"
     ]
    }
   ],
   "source": [
    "def float_to_binary(number, precision=10):\n",
    "    # Split the number into whole and fractional parts\n",
    "    whole, frac = int(number), number - int(number)\n",
    "    \n",
    "    # Convert whole part to binary\n",
    "    whole_binary = bin(whole).lstrip('0b') + '.'\n",
    "    \n",
    "    # Convert fractional part to binary\n",
    "    frac_binary = ''\n",
    "    while frac and len(frac_binary) < precision:\n",
    "        frac *= 2\n",
    "        if frac >= 1:\n",
    "            frac_binary += '1'\n",
    "            frac -= 1\n",
    "        else:\n",
    "            frac_binary += '0'\n",
    "    \n",
    "    return whole_binary + frac_binary\n",
    "\n",
    "# Example Usage\n",
    "number = 1.7734375\n",
    "binary_representation = float_to_binary(number)\n",
    "print(f\"Binary representation of {number} is {binary_representation}\")\n"
   ]
  },
  {
   "cell_type": "code",
   "execution_count": 15,
   "metadata": {},
   "outputs": [
    {
     "name": "stdout",
     "output_type": "stream",
     "text": [
      "Rounded binary: 1.111, fl(y): 1.875, Absolute Error: 0.1015625\n"
     ]
    }
   ],
   "source": [
    "def round_up_binary(binary_fraction, precision):\n",
    "    # Check if there's a need to round up\n",
    "    if len(binary_fraction) > precision and '1' in binary_fraction[precision:]:\n",
    "        # Perform rounding up\n",
    "        rounded_fraction = binary_fraction[:precision].rstrip('0') + '1'  # Simplistic approach\n",
    "        # Handle carry if necessary (not implemented here)\n",
    "        # This is a simplified example and may not handle all rounding cases correctly\n",
    "    else:\n",
    "        rounded_fraction = binary_fraction[:precision]\n",
    "    return rounded_fraction\n",
    "\n",
    "def binary_to_decimal(binary):\n",
    "    whole, frac = binary.split('.')\n",
    "    whole_decimal = int(whole, 2)\n",
    "    frac_decimal = sum(int(bit) * 2**(-i) for i, bit in enumerate(frac, start=1))\n",
    "    return whole_decimal + frac_decimal\n",
    "\n",
    "# Example usage\n",
    "binary_representation = float_to_binary(1.7734375)  # Assuming this function is defined as before\n",
    "rounded_binary_fraction = round_up_binary(binary_representation.split('.')[1], 4)\n",
    "rounded_binary = binary_representation.split('.')[0] + '.' + rounded_binary_fraction\n",
    "fl_y = binary_to_decimal(rounded_binary)\n",
    "absolute_error = abs(1.7734375 - fl_y)\n",
    "\n",
    "print(f\"Rounded binary: {rounded_binary}, fl(y): {fl_y}, Absolute Error: {absolute_error}\")\n"
   ]
  },
  {
   "cell_type": "code",
   "execution_count": 16,
   "metadata": {},
   "outputs": [
    {
     "name": "stdout",
     "output_type": "stream",
     "text": [
      "Original number: 1.7734375, Rounded binary: 1.1101, fl(y): 1.8125, Absolute Error: 0.0390625\n"
     ]
    }
   ],
   "source": [
    "def float_to_binary(number, precision=10):\n",
    "    # Split the number into whole and fractional parts\n",
    "    whole, frac = int(number), number - int(number)\n",
    "    # Convert whole part to binary\n",
    "    whole_binary = bin(whole).lstrip('0b')\n",
    "    # Convert fractional part to binary\n",
    "    frac_binary = ''\n",
    "    while frac > 0 and len(frac_binary) < precision:\n",
    "        frac *= 2\n",
    "        if frac >= 1:\n",
    "            frac_binary += '1'\n",
    "            frac -= 1\n",
    "        else:\n",
    "            frac_binary += '0'\n",
    "    return whole_binary + '.' + frac_binary\n",
    "\n",
    "def round_up_binary(binary_fraction, precision):\n",
    "    # If there's a 1 beyond the precision limit, round up\n",
    "    if '1' in binary_fraction[precision:]:\n",
    "        # Find the position to round up\n",
    "        for i in range(precision-1, -1, -1):\n",
    "            if binary_fraction[i] == '0':\n",
    "                return binary_fraction[:i] + '1' + '0' * (precision - i - 1)\n",
    "        # If all are 1's, increase the length\n",
    "        return '1' + '0' * precision\n",
    "    return binary_fraction[:precision]\n",
    "\n",
    "def binary_to_decimal(binary):\n",
    "    whole_str, frac_str = binary.split('.')\n",
    "    whole_decimal = int(whole_str, 2)\n",
    "    frac_decimal = sum(int(bit) * 2**(-i) for i, bit in enumerate(frac_str, start=1))\n",
    "    return whole_decimal + frac_decimal\n",
    "\n",
    "# Convert 1.7734375 to binary, round it, and calculate the absolute error\n",
    "y = 1.7734375\n",
    "binary_y = float_to_binary(y, precision=20)  # Increase precision for initial conversion\n",
    "binary_fraction = binary_y.split('.')[1]\n",
    "rounded_binary_fraction = round_up_binary(binary_fraction, 4)  # Keeping only 4 bits after the point\n",
    "rounded_binary = binary_y.split('.')[0] + '.' + rounded_binary_fraction\n",
    "fl_y = binary_to_decimal(rounded_binary)\n",
    "absolute_error = abs(y - fl_y)\n",
    "\n",
    "print(f\"Original number: {y}, Rounded binary: {rounded_binary}, fl(y): {fl_y}, Absolute Error: {absolute_error}\")\n"
   ]
  }
 ],
 "metadata": {
  "kernelspec": {
   "display_name": "Python 3",
   "language": "python",
   "name": "python3"
  },
  "language_info": {
   "codemirror_mode": {
    "name": "ipython",
    "version": 3
   },
   "file_extension": ".py",
   "mimetype": "text/x-python",
   "name": "python",
   "nbconvert_exporter": "python",
   "pygments_lexer": "ipython3",
   "version": "3.11.7"
  }
 },
 "nbformat": 4,
 "nbformat_minor": 2
}
