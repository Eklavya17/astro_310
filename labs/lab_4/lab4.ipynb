{
 "cells": [
  {
   "cell_type": "markdown",
   "metadata": {},
   "source": [
    "**Question 1**\n",
    "\n",
    "\n",
    "Convert the RA from hours-minutes-seconds to decimal hours and the Dec from\n",
    "degrees-minutes-seconds to decimal degrees\n"
   ]
  },
  {
   "cell_type": "code",
   "execution_count": 19,
   "metadata": {},
   "outputs": [
    {
     "name": "stdout",
     "output_type": "stream",
     "text": [
      "Value of alpha -> 5.919444444444445 \n",
      "Value of delta -> 7.407222222222223\n"
     ]
    }
   ],
   "source": [
    "Ra_hrs = 5\n",
    "RA_mins = 55\n",
    "Ra_s = 10\n",
    "\n",
    "Ra_decimal = (Ra_hrs) + (RA_mins / 60) + (Ra_s /3600) # RA-> decimal hours\n",
    "\n",
    "# print(Ra_decimal)\n",
    "\n",
    "\n",
    "Dec_degree = 7\n",
    "Dec_mins = 24\n",
    "Dec_sec = 26\n",
    "\n",
    "Dec_degrees = Dec_degree + (Dec_mins/60) + (Dec_sec/3600)\n",
    "\n",
    "print(\"Value of alpha ->\" ,Ra_decimal,\"\\nValue of delta ->\", Dec_degrees)\n"
   ]
  },
  {
   "cell_type": "markdown",
   "metadata": {},
   "source": [
    "**Question 2**\n",
    "\n",
    "Compute the local sidereal time (LST) of rise and set for our latitude"
   ]
  },
  {
   "cell_type": "code",
   "execution_count": 12,
   "metadata": {},
   "outputs": [
    {
     "name": "stdout",
     "output_type": "stream",
     "text": [
      "cos_h -> -0.1095213433109864\n",
      "LST rise value -> -0.4997371457591937  \n",
      "LST Set value  12.338626034648083\n"
     ]
    }
   ],
   "source": [
    "import math\n",
    "import numpy as np\n",
    "\n",
    "latitude = 40.112\n",
    "\n",
    "latitude_r = math.radians(latitude)\n",
    "dec_rad = math.radians(Dec_degrees)\n",
    "\n",
    "cos_h = -(math.sin(latitude_r) * math.sin(dec_rad)/(math.cos(latitude_r) * math.cos(dec_rad)))\n",
    "\n",
    "print (\"cos_h ->\" ,cos_h)\n",
    "\n",
    "H_rad = math.acos(cos_h)\n",
    "\n",
    "\n",
    "H_degrees  = math.degrees(H_rad)\n",
    "\n",
    "H_hrs = H_degrees/15\n",
    "\n",
    "LST_rise = Ra_decimal - H_hrs\n",
    "LST_set = Ra_decimal + H_hrs\n",
    "\n",
    "print(\"LST rise value ->\", LST_rise , \" \\nLST Set value \", LST_set )\n"
   ]
  },
  {
   "cell_type": "markdown",
   "metadata": {},
   "source": [
    "**Question 3**\n",
    "\n",
    "Add or subtract 24 from each number as needed to get values between 0 and 24"
   ]
  },
  {
   "cell_type": "code",
   "execution_count": 20,
   "metadata": {},
   "outputs": [
    {
     "name": "stdout",
     "output_type": "stream",
     "text": [
      "LST rise value adjusted -> 23.500262854240805  \n",
      "LST Set value adjusted  12.338626034648083\n"
     ]
    }
   ],
   "source": [
    "LST_rise_24 = LST_rise + 24 if LST_rise < 0 else LST_rise\n",
    "LST_set_24 = LST_set if LST_set < 0 else LST_set\n",
    "\n",
    "print(\"LST rise value adjusted ->\", LST_rise_24 , \" \\nLST Set value adjusted \", LST_set_24 )"
   ]
  },
  {
   "cell_type": "markdown",
   "metadata": {},
   "source": [
    "**Question 4**\n",
    "Convert these times to Greenwich sidereal time for our longitude\n",
    "\n",
    "**Question 5**\n",
    "Again add or subtract 24 as needed."
   ]
  },
  {
   "cell_type": "code",
   "execution_count": 21,
   "metadata": {},
   "outputs": [
    {
     "name": "stdout",
     "output_type": "stream",
     "text": [
      "GST rise value adjusted -> 5.381662854240805  \n",
      "GST Set value adjusted  18.220026034648082\n"
     ]
    }
   ],
   "source": [
    "GST_time_rise = LST_rise_24 - (-88.221/15)\n",
    "GST_time_set = LST_set_24 - (-88.221/15)\n",
    "\n",
    "GST_time_rise_adj = GST_time_rise + 24 if GST_time_rise < 0 else GST_time_rise\n",
    "GST_time_rise_adj = GST_time_rise_adj - 24 # since it is greater than 24\n",
    "GST_time_set_adj = GST_time_set + 24 if GST_time_set < 0 else GST_time_set\n",
    "\n",
    "GST_time_rise_adj, GST_time_set_adj\n",
    "\n",
    "print(\"GST rise value adjusted ->\", GST_time_rise_adj , \" \\nGST Set value adjusted \", GST_time_set_adj )"
   ]
  },
  {
   "cell_type": "markdown",
   "metadata": {},
   "source": [
    "**Question 6**\n",
    "\n",
    "Now calculate the Julian date corresponding to the Greenwich date (d,m,y) 30\n",
    "Jan 2024\n",
    "\n",
    "**Question 7**\n",
    "\n",
    "Convert the Greenwich sidereal time to Universal Time. Compute T and T0 as\n",
    "follows. Add or subtract to get values between 0 and 24. Then compute UT as in\n",
    "the last line:\n",
    "\n",
    "**Question 8**\n",
    "\n",
    "Again add or subtract (multiples of) 24 as needed for UT."
   ]
  },
  {
   "cell_type": "code",
   "execution_count": 47,
   "metadata": {},
   "outputs": [
    {
     "name": "stdout",
     "output_type": "stream",
     "text": [
      "Value of JD -> 2460339.5\n",
      "T -> 0.24078028747433264\n",
      "584.5824266925894  <- To\n",
      "8.582426692589365  <-new To -> reduced to under 24\n",
      "Value of UTr : 20.807975635101407 \n",
      "Value of UTs : 9.611284516028062\n"
     ]
    }
   ],
   "source": [
    "y = 2024\n",
    "m = 1\n",
    "d = 30\n",
    "\n",
    "A = math.trunc((y-1) / 100)\n",
    "B = 2 - A + math.trunc(A/4)\n",
    "C =  math.trunc(365.25 * (y - 1))\n",
    "D = math.trunc(30.6001 * (m + 13))\n",
    "\n",
    "\n",
    "JD = B + C+ D + d + 1720994.5\n",
    "\n",
    "print(\"Value of JD ->\", JD)\n",
    "\n",
    "\n",
    "T = (JD - 2451545.0) / 36525.0\n",
    "\n",
    "print(\"T ->\",  T)\n",
    "\n",
    "To = 6.697374558 + 2400.051336 * T + 0.000025862 * (T ** 2)\n",
    "\n",
    "print(To, \" <- To\")\n",
    "while (To > 24) :\n",
    "    To = To - 24\n",
    "print(To, \" <-new To -> reduced to under 24\")\n",
    "UT_rise = 0.9972695663 * (GST_time_rise_adj - To)\n",
    "UT_set =  0.9972695663 * (GST_time_set_adj - To)\n",
    "\n",
    "\n",
    "# UT_rise, UT_set, To\n",
    "# UT_rise_adj = UT_rise\n",
    "# UT_set_adj = UT_set\n",
    "# while (UT_rise_adj < 0 ):\n",
    "#     UT_rise_adj += 24\n",
    "# while (UT_set_adj < 0) :\n",
    "#     UT_set_adj += 24\n",
    "\n",
    "\n",
    "# UT_rise_adj, UT_set_adj\n",
    "print(\"Value of UTr :\", UT_rise_adj, \"\\nValue of UTs :\", UT_set_adj)\n"
   ]
  },
  {
   "cell_type": "markdown",
   "metadata": {},
   "source": [
    "**Question 9**\n",
    "\n",
    "Finally, convert to local standard time here in Urbana, then back to h:m:s:\n"
   ]
  },
  {
   "cell_type": "code",
   "execution_count": 55,
   "metadata": {},
   "outputs": [
    {
     "name": "stdout",
     "output_type": "stream",
     "text": [
      "CST rise at  14 : 48 : 28  \n",
      "CST set at : 3 : 36 : 40\n"
     ]
    }
   ],
   "source": [
    "CST_rise = UT_rise_adj - 6\n",
    "CST_set = UT_set_adj - 6\n",
    "\n",
    "def dec_to_hms(CST_time) :\n",
    "    hours = math.trunc(CST_time)\n",
    "    mins = math.trunc((CST_time - hours) * 60)\n",
    "    sec = math.trunc(((CST_time - hours) * 60 - mins) * 60)\n",
    "    return hours, mins, sec\n",
    "\n",
    "CST_rise_hms = dec_to_hms(CST_rise)\n",
    "CST_set_hms = dec_to_hms(CST_set)\n",
    "\n",
    "print(\"CST rise at \", CST_rise_hms[0],\":\", CST_rise_hms[1], \":\", CST_rise_hms[2] , \" \\nCST set at :\", CST_set_hms[0], \":\", CST_set_hms[1], \":\", CST_set_hms[2])\n"
   ]
  }
 ],
 "metadata": {
  "kernelspec": {
   "display_name": "Python 3",
   "language": "python",
   "name": "python3"
  },
  "language_info": {
   "codemirror_mode": {
    "name": "ipython",
    "version": 3
   },
   "file_extension": ".py",
   "mimetype": "text/x-python",
   "name": "python",
   "nbconvert_exporter": "python",
   "pygments_lexer": "ipython3",
   "version": "3.11.7"
  }
 },
 "nbformat": 4,
 "nbformat_minor": 2
}
