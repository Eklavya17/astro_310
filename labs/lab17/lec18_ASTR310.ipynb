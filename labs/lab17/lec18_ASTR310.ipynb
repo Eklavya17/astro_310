{
  "cells": [
    {
      "cell_type": "markdown",
      "metadata": {
        "id": "Ir3xjkzOJU_T"
      },
      "source": [
        "# Exercise 1: plotting an image from a FITS file"
      ]
    },
    {
      "cell_type": "markdown",
      "metadata": {
        "id": "PgKVTCZWJWVu"
      },
      "source": [
        "Using NumPy, Matplotlib, and Astropy, read in the file `lmc_ha_b20.fits` and do the following:  \n",
        "- Get the image data from the first HDU."
      ]
    },
    {
      "cell_type": "code",
      "execution_count": 11,
      "metadata": {
        "id": "E5IisplCI_SH"
      },
      "outputs": [
        {
          "data": {
            "text/plain": [
              "array([[0., 0., 0., ..., 0., 0., 0.],\n",
              "       [0., 0., 0., ..., 0., 0., 0.],\n",
              "       [0., 0., 0., ..., 0., 0., 0.],\n",
              "       ...,\n",
              "       [0., 0., 0., ..., 0., 0., 0.],\n",
              "       [0., 0., 0., ..., 0., 0., 0.],\n",
              "       [0., 0., 0., ..., 0., 0., 0.]], dtype='>f4')"
            ]
          },
          "execution_count": 11,
          "metadata": {},
          "output_type": "execute_result"
        }
      ],
      "source": [
        "#Code Here\n",
        "from astropy.io import fits\n",
        "import numpy as np\n",
        "path = r\"C:\\Users\\eklav\\OneDrive - University of Illinois - Urbana\\astro_310\\labs\\lab17\\lmc.ha.b20.fits\"\n",
        "image = fits.open(path)\n",
        "image\n",
        "image_data = image[0].data\n",
        "image_data"
      ]
    },
    {
      "cell_type": "markdown",
      "metadata": {
        "id": "qa97cFZOJ9ZI"
      },
      "source": [
        "- Take the common logarithm of the image data.\n"
      ]
    },
    {
      "cell_type": "code",
      "execution_count": 12,
      "metadata": {
        "id": "DQY0JHxiJ-tW"
      },
      "outputs": [
        {
          "data": {
            "text/plain": [
              "array([[nan, nan, nan, ..., nan, nan, nan],\n",
              "       [nan, nan, nan, ..., nan, nan, nan],\n",
              "       [nan, nan, nan, ..., nan, nan, nan],\n",
              "       ...,\n",
              "       [nan, nan, nan, ..., nan, nan, nan],\n",
              "       [nan, nan, nan, ..., nan, nan, nan],\n",
              "       [nan, nan, nan, ..., nan, nan, nan]], dtype=float32)"
            ]
          },
          "execution_count": 12,
          "metadata": {},
          "output_type": "execute_result"
        }
      ],
      "source": [
        "#Code Here\n",
        "log_image = np.log(np.where(image_data > 0, image_data, np.nan))\n",
        "log_image"
      ]
    },
    {
      "cell_type": "markdown",
      "metadata": {
        "id": "vPRehMv3J8K1"
      },
      "source": [
        "- Get the first HDU's keywords `NAXIS1`, `NAXIS2`, `CDELT1`, and `CDELT2` (the latter two are in degrees/pixel). Use this information to compute the extent of the image. (Use the abs value of `CDELT1`... RA goes backwards)\n"
      ]
    },
    {
      "cell_type": "code",
      "execution_count": 14,
      "metadata": {
        "id": "ssNV23UJKB6x"
      },
      "outputs": [],
      "source": [
        "#Code Here\n",
        "naxis1 = image[0].header['NAXIS1']\n",
        "naxis2 = image[0].header['NAXIS2']\n",
        "cdelt1 = image[0].header['CDELT1']\n",
        "cdelt2 = image[0].header['CDELT2']\n",
        "image.close()"
      ]
    },
    {
      "cell_type": "markdown",
      "metadata": {
        "id": "tgmNyQm7KDi-"
      },
      "source": [
        "- Plot the log image using the extent determined by the above keywords and placing the origin at lower left.\n"
      ]
    },
    {
      "cell_type": "code",
      "execution_count": 16,
      "metadata": {
        "id": "8KSuMniwKFAZ"
      },
      "outputs": [
        {
          "name": "stdout",
          "output_type": "stream",
          "text": [
            "log image data : [[nan nan nan ... nan nan nan]\n",
            " [nan nan nan ... nan nan nan]\n",
            " [nan nan nan ... nan nan nan]\n",
            " ...\n",
            " [nan nan nan ... nan nan nan]\n",
            " [nan nan nan ... nan nan nan]\n",
            " [nan nan nan ... nan nan nan]]\n",
            "naxis1 540\n",
            "\n",
            "axis2 540\n",
            "\n",
            "cdelt1 -0.0166666664183139\n",
            "\n",
            "cdelt2 0.016666666418314\n",
            "\n",
            "extent [0, 8.999999865889507, 0, 8.999999865889562]\n"
          ]
        }
      ],
      "source": [
        "#Code Here\n",
        "extent = [0, naxis1 * abs(cdelt1), 0, naxis2 * abs(cdelt2)]\n",
        "print(\"log image data :\", log_image)\n",
        "print(\"naxis1\", naxis1)\n",
        "print(\"\\naxis2\", naxis2)\n",
        "print(\"\\ncdelt1\", cdelt1)\n",
        "print(\"\\ncdelt2\", cdelt2)\n",
        "print(\"\\nextent\", extent)\n",
        "# QUITE OBVIOUSLY MOST OF THE DATA WOULD HAVE BEEN 0s since its an image which was set to nan"
      ]
    },
    {
      "cell_type": "markdown",
      "metadata": {
        "id": "iw0QMrBaKxt6"
      },
      "source": [
        "# Exercise 2: modifying a FITS table\n"
      ]
    },
    {
      "cell_type": "markdown",
      "metadata": {
        "id": "fVrwX54rLCif"
      },
      "source": [
        "- The files `table1.fits` and `table2.fits` each contain an empty primary HDU and a binary table extension HDU. The table data are drawn from a sample of nearby clusters of galaxies.  \n",
        "  \n",
        "- The file `table1.fits` contains: cluster name, redshift, RA (J2000) and dec (J2000).  \n",
        "\n",
        "- The file `table2.fits` contains: cluster name, 2-10 keV X-ray luminosity, X-ray temperature in keV.\n",
        "\n",
        "- Using NumPy and Astropy, read the two files in, merge the tables into one new table, and write the results to a new file `newtable.fits`.\n",
        "\n",
        "\n",
        "\n"
      ]
    },
    {
      "cell_type": "code",
      "execution_count": 26,
      "metadata": {
        "id": "51oo8_I8LB_Y"
      },
      "outputs": [
        {
          "name": "stdout",
          "output_type": "stream",
          "text": [
            "<TableColumns names=('name','redshift','raj2000','decj2000')>\n",
            "<TableColumns names=('name','lx2-10','tx')>\n"
          ]
        }
      ],
      "source": [
        "#Code Here\n",
        "from astropy.table import Table, join\n",
        "table1 = Table.read('table1.fits', hdu=1)\n",
        "table2 = Table.read('table2.fits', hdu=1)\n",
        "# merge = join(table1, table2, keys='cluster name')\n",
        "# cluster name does not exist only name is present\n",
        "merge = join(table1, table2, keys='name')\n",
        "merge.write('newtable.fits', format='fits', overwrite=True)\n",
        "print(table1.columns)\n",
        "print(table2.columns)"
      ]
    }
  ],
  "metadata": {
    "colab": {
      "provenance": []
    },
    "kernelspec": {
      "display_name": "Python 3",
      "name": "python3"
    },
    "language_info": {
      "codemirror_mode": {
        "name": "ipython",
        "version": 3
      },
      "file_extension": ".py",
      "mimetype": "text/x-python",
      "name": "python",
      "nbconvert_exporter": "python",
      "pygments_lexer": "ipython3",
      "version": "3.12.2"
    }
  },
  "nbformat": 4,
  "nbformat_minor": 0
}
